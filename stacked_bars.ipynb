{
 "cells": [
  {
   "cell_type": "code",
   "id": "initial_id",
   "metadata": {
    "collapsed": true,
    "ExecuteTime": {
     "end_time": "2024-12-10T04:47:56.259116Z",
     "start_time": "2024-12-10T04:47:56.240568Z"
    }
   },
   "source": [
    "from enum import Enum\n",
    "import plotly.express as px\n",
    "import pandas as pd\n",
    "\n",
    "class Scale(Enum):\n",
    "    LIKELY = ['Very unlikely ',\n",
    "        'Unlikely ',\n",
    "        'Neutral ',\n",
    "        'Likely ',\n",
    "        'Very likely ']\n",
    "    IMPORTANT = ['Not at all important',\n",
    "        'Not important',\n",
    "        'Neutral',\n",
    "        'Important',\n",
    "        'Very important']\n",
    "    SKILL = ['Very low',\n",
    "        'Low',\n",
    "        'Somewhat low',\n",
    "        'Neutral',\n",
    "        'Somewhat high',\n",
    "        'High',\n",
    "        'Very high']\n",
    "\n",
    "class Colours(Enum):\n",
    "    FIVE = [\"#FF0000\", \"#FF7F7F\", \"#7F7F7F\", \"#7F7FFF\", \"#0000FF\"]\n",
    "    SEVEN = [\"#FF0000\", \"#FF5555\", \"#FFAAAA\", \"#7F7F7F\", \"#AAAAFF\", \"#5555FF\", \"#0000FF\"]\n",
    "\n",
    "def stack_counts(df, columns, scale):\n",
    "    df_subset = df[columns]\n",
    "\n",
    "    # Turn long data into wide\n",
    "    counts_df = pd.melt(df_subset, var_name='question', value_name='response')\n",
    "\n",
    "    # Count the occurrences of each category for each question\n",
    "    counts_df = pd.crosstab(counts_df['question'], counts_df['response'], dropna=False)\n",
    "\n",
    "    # Reorder columns\n",
    "    counts_df = counts_df[scale.value]\n",
    "\n",
    "    # Calc percent\n",
    "    counts_df = counts_df.div(counts_df.sum(axis=1), axis=0)\n",
    "\n",
    "    return counts_df\n",
    "\n",
    "def display_bars(df, column, scale):\n",
    "    counts_df = stack_counts(df, column, scale)\n",
    "\n",
    "    if len(scale.value) == 5:\n",
    "        colours = Colours.FIVE.value\n",
    "    elif len(scale.value) == 7:\n",
    "        colours = Colours.SEVEN.value\n",
    "\n",
    "    # Create figure\n",
    "    fig = px.bar(counts_df, x=scale.value, color_discrete_sequence=colours)\n",
    "    fig.update_xaxes(tickformat=\",.2%\")\n",
    "    fig.show()\n",
    "\n",
    "# df = pd.read_csv('data/all-responses.csv')\n",
    "# display_bars(df, ['Q7 - Technology should be accessible and help people feel included, safe, and co...', 'Q11 - Technology should drive business growth and education opportunities, creati...'], Scale.IMPORTANT)"
   ],
   "outputs": [],
   "execution_count": 48
  }
 ],
 "metadata": {
  "kernelspec": {
   "display_name": "Python 3",
   "language": "python",
   "name": "python3"
  },
  "language_info": {
   "codemirror_mode": {
    "name": "ipython",
    "version": 2
   },
   "file_extension": ".py",
   "mimetype": "text/x-python",
   "name": "python",
   "nbconvert_exporter": "python",
   "pygments_lexer": "ipython2",
   "version": "2.7.6"
  }
 },
 "nbformat": 4,
 "nbformat_minor": 5
}
