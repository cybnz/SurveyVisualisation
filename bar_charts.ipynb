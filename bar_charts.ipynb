{
 "cells": [
  {
   "cell_type": "code",
   "id": "initial_id",
   "metadata": {
    "collapsed": true,
    "ExecuteTime": {
     "end_time": "2025-02-16T01:54:20.784275Z",
     "start_time": "2025-02-16T01:54:20.726522Z"
    }
   },
   "source": [
    "from matplotlib import pyplot as plt\n",
    "from enum import Enum\n",
    "import plotly.express as px\n",
    "import pandas as pd\n",
    "\n",
    "class Scale(Enum):\n",
    "    LIKELY = ['Very unlikely ',\n",
    "        'Unlikely ',\n",
    "        'Neutral ',\n",
    "        'Likely ',\n",
    "        'Very likely ']\n",
    "    IMPORTANT = ['Not at all important',\n",
    "        'Not important',\n",
    "        'Neutral',\n",
    "        'Important',\n",
    "        'Very important']\n",
    "    SKILL = ['Very low',\n",
    "        'Low',\n",
    "        'Somewhat low',\n",
    "        'Neutral',\n",
    "        'Somewhat high',\n",
    "        'High',\n",
    "        'Very high']\n",
    "\n",
    "class Colours(Enum):\n",
    "    FIVE = [\"#FF0000\", \"#FF7F7F\", \"#7F7F7F\", \"#7F7FFF\", \"#0000FF\"]\n",
    "    SEVEN = [\"#FF0000\", \"#FF5555\", \"#FFAAAA\", \"#7F7F7F\", \"#AAAAFF\", \"#5555FF\", \"#0000FF\"]\n",
    "\n",
    "def compute_age_weights(df, age_col='Q26 - Age: *'):\n",
    "    # Filter out unwanted age responses.\n",
    "    df_filtered = df[~df[age_col].isin([\"Prefer not to say\", \"Under 16\"])].copy()\n",
    "\n",
    "    # Calculate sample counts and proportions for each age bracket.\n",
    "    sample_counts = df_filtered[age_col].value_counts()\n",
    "    total_sample = sample_counts.sum()\n",
    "    sample_proportions = sample_counts / total_sample\n",
    "\n",
    "    # Define the target population proportions.\n",
    "    population_proportions = {\n",
    "        '16-24': 0.1362463486,\n",
    "        '25-34': 0.1661635833,\n",
    "        '35-44': 0.1630233690,\n",
    "        '45-54': 0.1511927945,\n",
    "        '55-64': 0.1359785784,\n",
    "        '65-74': 0.1206426485,\n",
    "        '75-84': 0.0901411880,\n",
    "        '85+':   0.0335199611\n",
    "    }\n",
    "\n",
    "    # Calculate weight for each age bracket: population proportion / sample proportion.\n",
    "    age_weights = {}\n",
    "    for age, pop_prop in population_proportions.items():\n",
    "        sample_prop = sample_proportions.get(age, 0)\n",
    "        if sample_prop > 0:\n",
    "            age_weights[age] = pop_prop / sample_prop\n",
    "        else:\n",
    "            age_weights[age] = 0  # or handle appropriately if no respondents in the age bracket\n",
    "\n",
    "    return age_weights\n",
    "\n",
    "def stack_counts(df, columns, scale, pop_rep=True):\n",
    "    if pop_rep is True:\n",
    "        # Keep only the desired columns plus the age column.\n",
    "        df_subset = df[columns + ['Q26 - Age: *']].copy()\n",
    "        # Filter out rows with \"Prefer not to say\" or \"Under 16\"\n",
    "        df_subset = df_subset[~df_subset[\"Q26 - Age: *\"].isin([\"Prefer not to say\", \"Under 16\"])].copy()\n",
    "\n",
    "        # Compute age weights using the helper function.\n",
    "        age_weights = compute_age_weights(df_subset, age_col='Q26 - Age: *')\n",
    "\n",
    "        # Melt the dataframe so each row is one response with its age.\n",
    "        df_long = pd.melt(df_subset,\n",
    "                          id_vars='Q26 - Age: *',\n",
    "                          var_name='question',\n",
    "                          value_name='response')\n",
    "\n",
    "        # Map the weight for each row based on its age.\n",
    "        df_long['weight'] = df_long['Q26 - Age: *'].map(age_weights)\n",
    "\n",
    "        # Group by question and response to sum the weights.\n",
    "        weighted_counts = df_long.groupby(['question', 'response'])['weight'].sum().unstack(fill_value=0)\n",
    "        counts_df = weighted_counts\n",
    "    else:\n",
    "        # If not applying population representative weighting,\n",
    "        # just count occurrences of each response for each question.\n",
    "        df_subset = df[columns].copy()\n",
    "        df_long = pd.melt(df_subset, var_name='question', value_name='response')\n",
    "        counts_df = pd.crosstab(df_long['question'], df_long['response'], dropna=False)\n",
    "\n",
    "    # Reorder columns according to the scale (assuming scale.value is an ordered list)\n",
    "    counts_df = counts_df[scale.value]\n",
    "\n",
    "    # Convert counts to percentages (each row sums to 1)\n",
    "    counts_df = counts_df.div(counts_df.sum(axis=1), axis=0)\n",
    "\n",
    "    return counts_df\n",
    "\n",
    "def insert_line_break(text, char_num):\n",
    "    result = []\n",
    "    \n",
    "    while len(text) > char_num:\n",
    "        # Find the last space before or at the 40th character\n",
    "        space_index = text.rfind(' ', 0, char_num)\n",
    "        \n",
    "        if space_index == -1:  # No space found, force break at 40\n",
    "            space_index = char_num\n",
    "        else:\n",
    "            space_index += 1  # Include the space in the cut\n",
    "        \n",
    "        result.append(text[:space_index].rstrip())  # Add substring before the break\n",
    "        text = text[space_index:].lstrip()  # Remove processed part and leading space\n",
    "    \n",
    "    result.append(text)  # Add remaining text\n",
    "    return '<br>'.join(result)\n",
    "\n",
    "def stacked_bars(df, columns, scale, pop_rep=True):\n",
    "    counts_df = stack_counts(df, columns, scale, pop_rep=pop_rep)\n",
    "    \n",
    "    # Break up long question labels\n",
    "    counts_df.index = counts_df.index.map(lambda text: insert_line_break(text, 40))\n",
    "\n",
    "    if len(scale.value) == 5:\n",
    "        colours = Colours.FIVE.value\n",
    "    elif len(scale.value) == 7:\n",
    "        colours = Colours.SEVEN.value\n",
    "\n",
    "    # Create figure\n",
    "    fig = px.bar(counts_df, x=scale.value, color_discrete_sequence=colours)\n",
    "    fig.update_xaxes(tickformat=\",.2%\", title_text=\"Response Distribution (%)\")\n",
    "    fig.update_yaxes(title_text=\"Issue\")\n",
    "    fig.update_layout(legend_title=\"Response Category\")\n",
    "    fig.show()\n",
    "\n",
    "def ranking_counts(df, columns):\n",
    "    df = df[columns]\n",
    "    # Create a DataFrame to store counts of ranking positions\n",
    "    rankings = pd.DataFrame(index=df.columns, columns=range(1, len(columns)))\n",
    "\n",
    "    # Count how many times each ranking value occurs for each issue\n",
    "    for col in df.columns:\n",
    "        rankings.loc[col] = [df[col].tolist().count(i) for i in range(1, len(columns))]\n",
    "\n",
    "    return rankings\n",
    "\n",
    "def grouped_bars(df, columns):\n",
    "    # Get the counts of rankings per issue using the provided function.\n",
    "    rankings = ranking_counts(df, columns)\n",
    "    rankings.index = rankings.index.map(lambda text: insert_line_break(text, 30))\n",
    "    # rankings now has issues as its index and ranking positions (1, 2, …, len(columns)-1) as its columns.\n",
    "\n",
    "    # Reset the index to convert the issue names into a column.\n",
    "    rankings_reset = rankings.reset_index().rename(columns={'index': 'Service'})\n",
    "    \n",
    "    # Convert the data from wide to long format.\n",
    "    # Each row will have an Issue, a Ranking, and the corresponding Count.\n",
    "    rankings_long = rankings_reset.melt(\n",
    "        id_vars='Service',\n",
    "        var_name='Ranking',\n",
    "        value_name='Count'\n",
    "    )\n",
    "    \n",
    "    # Create the grouped bar chart using Plotly Express.\n",
    "    fig = px.bar(\n",
    "        rankings_long,\n",
    "        x=\"Service\",\n",
    "        y=\"Count\",\n",
    "        color=\"Ranking\",\n",
    "        barmode=\"group\",  # This places the ranking bars side-by-side for each issue.\n",
    "        labels={\n",
    "            \"Service\": \"Service\",\n",
    "            \"Count\": \"Count of ranking\",\n",
    "            \"Ranking\": \"Ranking\".format(len(columns)-1)\n",
    "        }\n",
    "    )\n",
    "    \n",
    "    # Rotate x-axis labels for clarity, especially if issue names are long.\n",
    "    fig.update_layout(xaxis_tickangle=-45, height=600)\n",
    "    \n",
    "    fig.show()\n",
    "\n",
    "def average_bars(df, columns, pop_rep=False):\n",
    "    if pop_rep:\n",
    "        # Keep only the desired service columns plus the age column.\n",
    "        df_subset = df[columns + ['Q26 - Age: *']].copy()\n",
    "        # Exclude rows with \"Prefer not to say\" or \"Under 16\"\n",
    "        df_subset = df_subset[~df_subset[\"Q26 - Age: *\"].isin([\"Prefer not to say\", \"Under 16\"])].copy()\n",
    "\n",
    "        # Compute age weights using the helper function.\n",
    "        age_weights = compute_age_weights(df_subset, age_col='Q26 - Age: *')\n",
    "        # Map the weight for each row based on its age.\n",
    "        df_subset['weight'] = df_subset['Q26 - Age: *'].map(age_weights)\n",
    "\n",
    "        # For each service, compute the weighted average ranking:\n",
    "        # weighted_average = sum(ranking * weight) / sum(weight)\n",
    "        weighted_avgs = {}\n",
    "        for col in columns:\n",
    "            # Ensure that the values are numeric.\n",
    "            df_subset[col] = pd.to_numeric(df_subset[col], errors='coerce')\n",
    "            weighted_sum = (df_subset[col] * df_subset['weight']).sum()\n",
    "            total_weight = df_subset['weight'].sum()\n",
    "            weighted_avgs[col] = weighted_sum / total_weight if total_weight else None\n",
    "\n",
    "        # Convert the dictionary to a DataFrame.\n",
    "        average_rankings_df = pd.DataFrame(list(weighted_avgs.items()),\n",
    "                                           columns=['Service', 'Average Ranking'])\n",
    "    else:\n",
    "        # Compute simple (unweighted) average rankings.\n",
    "        df_subset = df[columns]\n",
    "        average_rankings = df_subset.mean()\n",
    "        average_rankings_df = average_rankings.sort_values(ascending=True).reset_index()\n",
    "        average_rankings_df.columns = ['Service', 'Average Ranking']\n",
    "\n",
    "    # Sort by average ranking for visualization.\n",
    "    average_rankings_df = average_rankings_df.sort_values('Average Ranking', ascending=True)\n",
    "\n",
    "    # Create a bar chart using Plotly Express.\n",
    "    fig = px.bar(\n",
    "        average_rankings_df,\n",
    "        x='Service',\n",
    "        y='Average Ranking',\n",
    "        labels={\n",
    "            \"Service\": \"Service\",\n",
    "            \"Average Ranking\": \"Average Ranking\"\n",
    "        }\n",
    "    )\n",
    "\n",
    "    # Rotate x-axis labels for better readability.\n",
    "    fig.update_layout(\n",
    "        xaxis_tickangle=-45,\n",
    "        height=600,\n",
    "        showlegend=False  # Legend not needed.\n",
    "    )\n",
    "\n",
    "    fig.show()\n",
    "\n",
    "df = pd.read_csv('data/all-responses-CLEANED.csv')\n",
    "# stacked_bars(df, ['Traffic congestion.',\n",
    "#            'A revitalised city centre.',\n",
    "#            'Reliable and timely public transport.',\n",
    "#            'Public safety.',\n",
    "#            'Visibility of available parking.',\n",
    "#            'Staying informed and providing feedback on council decisions.'],\n",
    "#             Scale.IMPORTANT)\n",
    "columns = ['Roads, footpaths, and cycle ways.',\n",
    "           'Rubbish and recycling services.',\n",
    "           'Building and planning.',\n",
    "           'Outdoor spaces, such as parks.',\n",
    "           'Public facilities, such as community centres.',\n",
    "           'Drinking water, wastewater, and stormwater services.',\n",
    "           'Business licensing and compliance.',\n",
    "           'Community services, such as events.']\n",
    "# grouped_bars(df, columns)\n",
    "average_bars(df, columns, True)"
   ],
   "outputs": [
    {
     "data": {
      "application/vnd.plotly.v1+json": {
       "data": [
        {
         "alignmentgroup": "True",
         "hovertemplate": "Service=%{x}<br>Average Ranking=%{y}<extra></extra>",
         "legendgroup": "",
         "marker": {
          "color": "#636efa",
          "pattern": {
           "shape": ""
          }
         },
         "name": "",
         "offsetgroup": "",
         "orientation": "v",
         "showlegend": false,
         "textposition": "auto",
         "x": [
          "Roads, footpaths, and cycle ways.",
          "Drinking water, wastewater, and stormwater services.",
          "Rubbish and recycling services.",
          "Public facilities, such as community centres.",
          "Building and planning.",
          "Outdoor spaces, such as parks.",
          "Community services, such as events.",
          "Business licensing and compliance."
         ],
         "xaxis": "x",
         "y": [
          2.771178952844736,
          3.463682788608354,
          3.754437172437026,
          3.97215998153567,
          4.0644754235852565,
          4.319829926698198,
          4.583616632661457,
          5.639996696543043
         ],
         "yaxis": "y",
         "type": "bar"
        }
       ],
       "layout": {
        "template": {
         "data": {
          "histogram2dcontour": [
           {
            "type": "histogram2dcontour",
            "colorbar": {
             "outlinewidth": 0,
             "ticks": ""
            },
            "colorscale": [
             [
              0.0,
              "#0d0887"
             ],
             [
              0.1111111111111111,
              "#46039f"
             ],
             [
              0.2222222222222222,
              "#7201a8"
             ],
             [
              0.3333333333333333,
              "#9c179e"
             ],
             [
              0.4444444444444444,
              "#bd3786"
             ],
             [
              0.5555555555555556,
              "#d8576b"
             ],
             [
              0.6666666666666666,
              "#ed7953"
             ],
             [
              0.7777777777777778,
              "#fb9f3a"
             ],
             [
              0.8888888888888888,
              "#fdca26"
             ],
             [
              1.0,
              "#f0f921"
             ]
            ]
           }
          ],
          "choropleth": [
           {
            "type": "choropleth",
            "colorbar": {
             "outlinewidth": 0,
             "ticks": ""
            }
           }
          ],
          "histogram2d": [
           {
            "type": "histogram2d",
            "colorbar": {
             "outlinewidth": 0,
             "ticks": ""
            },
            "colorscale": [
             [
              0.0,
              "#0d0887"
             ],
             [
              0.1111111111111111,
              "#46039f"
             ],
             [
              0.2222222222222222,
              "#7201a8"
             ],
             [
              0.3333333333333333,
              "#9c179e"
             ],
             [
              0.4444444444444444,
              "#bd3786"
             ],
             [
              0.5555555555555556,
              "#d8576b"
             ],
             [
              0.6666666666666666,
              "#ed7953"
             ],
             [
              0.7777777777777778,
              "#fb9f3a"
             ],
             [
              0.8888888888888888,
              "#fdca26"
             ],
             [
              1.0,
              "#f0f921"
             ]
            ]
           }
          ],
          "heatmap": [
           {
            "type": "heatmap",
            "colorbar": {
             "outlinewidth": 0,
             "ticks": ""
            },
            "colorscale": [
             [
              0.0,
              "#0d0887"
             ],
             [
              0.1111111111111111,
              "#46039f"
             ],
             [
              0.2222222222222222,
              "#7201a8"
             ],
             [
              0.3333333333333333,
              "#9c179e"
             ],
             [
              0.4444444444444444,
              "#bd3786"
             ],
             [
              0.5555555555555556,
              "#d8576b"
             ],
             [
              0.6666666666666666,
              "#ed7953"
             ],
             [
              0.7777777777777778,
              "#fb9f3a"
             ],
             [
              0.8888888888888888,
              "#fdca26"
             ],
             [
              1.0,
              "#f0f921"
             ]
            ]
           }
          ],
          "heatmapgl": [
           {
            "type": "heatmapgl",
            "colorbar": {
             "outlinewidth": 0,
             "ticks": ""
            },
            "colorscale": [
             [
              0.0,
              "#0d0887"
             ],
             [
              0.1111111111111111,
              "#46039f"
             ],
             [
              0.2222222222222222,
              "#7201a8"
             ],
             [
              0.3333333333333333,
              "#9c179e"
             ],
             [
              0.4444444444444444,
              "#bd3786"
             ],
             [
              0.5555555555555556,
              "#d8576b"
             ],
             [
              0.6666666666666666,
              "#ed7953"
             ],
             [
              0.7777777777777778,
              "#fb9f3a"
             ],
             [
              0.8888888888888888,
              "#fdca26"
             ],
             [
              1.0,
              "#f0f921"
             ]
            ]
           }
          ],
          "contourcarpet": [
           {
            "type": "contourcarpet",
            "colorbar": {
             "outlinewidth": 0,
             "ticks": ""
            }
           }
          ],
          "contour": [
           {
            "type": "contour",
            "colorbar": {
             "outlinewidth": 0,
             "ticks": ""
            },
            "colorscale": [
             [
              0.0,
              "#0d0887"
             ],
             [
              0.1111111111111111,
              "#46039f"
             ],
             [
              0.2222222222222222,
              "#7201a8"
             ],
             [
              0.3333333333333333,
              "#9c179e"
             ],
             [
              0.4444444444444444,
              "#bd3786"
             ],
             [
              0.5555555555555556,
              "#d8576b"
             ],
             [
              0.6666666666666666,
              "#ed7953"
             ],
             [
              0.7777777777777778,
              "#fb9f3a"
             ],
             [
              0.8888888888888888,
              "#fdca26"
             ],
             [
              1.0,
              "#f0f921"
             ]
            ]
           }
          ],
          "surface": [
           {
            "type": "surface",
            "colorbar": {
             "outlinewidth": 0,
             "ticks": ""
            },
            "colorscale": [
             [
              0.0,
              "#0d0887"
             ],
             [
              0.1111111111111111,
              "#46039f"
             ],
             [
              0.2222222222222222,
              "#7201a8"
             ],
             [
              0.3333333333333333,
              "#9c179e"
             ],
             [
              0.4444444444444444,
              "#bd3786"
             ],
             [
              0.5555555555555556,
              "#d8576b"
             ],
             [
              0.6666666666666666,
              "#ed7953"
             ],
             [
              0.7777777777777778,
              "#fb9f3a"
             ],
             [
              0.8888888888888888,
              "#fdca26"
             ],
             [
              1.0,
              "#f0f921"
             ]
            ]
           }
          ],
          "mesh3d": [
           {
            "type": "mesh3d",
            "colorbar": {
             "outlinewidth": 0,
             "ticks": ""
            }
           }
          ],
          "scatter": [
           {
            "marker": {
             "line": {
              "color": "#283442"
             }
            },
            "type": "scatter"
           }
          ],
          "parcoords": [
           {
            "type": "parcoords",
            "line": {
             "colorbar": {
              "outlinewidth": 0,
              "ticks": ""
             }
            }
           }
          ],
          "scatterpolargl": [
           {
            "type": "scatterpolargl",
            "marker": {
             "colorbar": {
              "outlinewidth": 0,
              "ticks": ""
             }
            }
           }
          ],
          "bar": [
           {
            "error_x": {
             "color": "#f2f5fa"
            },
            "error_y": {
             "color": "#f2f5fa"
            },
            "marker": {
             "line": {
              "color": "rgb(17,17,17)",
              "width": 0.5
             },
             "pattern": {
              "fillmode": "overlay",
              "size": 10,
              "solidity": 0.2
             }
            },
            "type": "bar"
           }
          ],
          "scattergeo": [
           {
            "type": "scattergeo",
            "marker": {
             "colorbar": {
              "outlinewidth": 0,
              "ticks": ""
             }
            }
           }
          ],
          "scatterpolar": [
           {
            "type": "scatterpolar",
            "marker": {
             "colorbar": {
              "outlinewidth": 0,
              "ticks": ""
             }
            }
           }
          ],
          "histogram": [
           {
            "marker": {
             "pattern": {
              "fillmode": "overlay",
              "size": 10,
              "solidity": 0.2
             }
            },
            "type": "histogram"
           }
          ],
          "scattergl": [
           {
            "marker": {
             "line": {
              "color": "#283442"
             }
            },
            "type": "scattergl"
           }
          ],
          "scatter3d": [
           {
            "type": "scatter3d",
            "line": {
             "colorbar": {
              "outlinewidth": 0,
              "ticks": ""
             }
            },
            "marker": {
             "colorbar": {
              "outlinewidth": 0,
              "ticks": ""
             }
            }
           }
          ],
          "scattermapbox": [
           {
            "type": "scattermapbox",
            "marker": {
             "colorbar": {
              "outlinewidth": 0,
              "ticks": ""
             }
            }
           }
          ],
          "scatterternary": [
           {
            "type": "scatterternary",
            "marker": {
             "colorbar": {
              "outlinewidth": 0,
              "ticks": ""
             }
            }
           }
          ],
          "scattercarpet": [
           {
            "type": "scattercarpet",
            "marker": {
             "colorbar": {
              "outlinewidth": 0,
              "ticks": ""
             }
            }
           }
          ],
          "carpet": [
           {
            "aaxis": {
             "endlinecolor": "#A2B1C6",
             "gridcolor": "#506784",
             "linecolor": "#506784",
             "minorgridcolor": "#506784",
             "startlinecolor": "#A2B1C6"
            },
            "baxis": {
             "endlinecolor": "#A2B1C6",
             "gridcolor": "#506784",
             "linecolor": "#506784",
             "minorgridcolor": "#506784",
             "startlinecolor": "#A2B1C6"
            },
            "type": "carpet"
           }
          ],
          "table": [
           {
            "cells": {
             "fill": {
              "color": "#506784"
             },
             "line": {
              "color": "rgb(17,17,17)"
             }
            },
            "header": {
             "fill": {
              "color": "#2a3f5f"
             },
             "line": {
              "color": "rgb(17,17,17)"
             }
            },
            "type": "table"
           }
          ],
          "barpolar": [
           {
            "marker": {
             "line": {
              "color": "rgb(17,17,17)",
              "width": 0.5
             },
             "pattern": {
              "fillmode": "overlay",
              "size": 10,
              "solidity": 0.2
             }
            },
            "type": "barpolar"
           }
          ],
          "pie": [
           {
            "automargin": true,
            "type": "pie"
           }
          ]
         },
         "layout": {
          "autotypenumbers": "strict",
          "colorway": [
           "#636efa",
           "#EF553B",
           "#00cc96",
           "#ab63fa",
           "#FFA15A",
           "#19d3f3",
           "#FF6692",
           "#B6E880",
           "#FF97FF",
           "#FECB52"
          ],
          "font": {
           "color": "#f2f5fa"
          },
          "hovermode": "closest",
          "hoverlabel": {
           "align": "left"
          },
          "paper_bgcolor": "rgb(17,17,17)",
          "plot_bgcolor": "rgb(17,17,17)",
          "polar": {
           "bgcolor": "rgb(17,17,17)",
           "angularaxis": {
            "gridcolor": "#506784",
            "linecolor": "#506784",
            "ticks": ""
           },
           "radialaxis": {
            "gridcolor": "#506784",
            "linecolor": "#506784",
            "ticks": ""
           }
          },
          "ternary": {
           "bgcolor": "rgb(17,17,17)",
           "aaxis": {
            "gridcolor": "#506784",
            "linecolor": "#506784",
            "ticks": ""
           },
           "baxis": {
            "gridcolor": "#506784",
            "linecolor": "#506784",
            "ticks": ""
           },
           "caxis": {
            "gridcolor": "#506784",
            "linecolor": "#506784",
            "ticks": ""
           }
          },
          "coloraxis": {
           "colorbar": {
            "outlinewidth": 0,
            "ticks": ""
           }
          },
          "colorscale": {
           "sequential": [
            [
             0.0,
             "#0d0887"
            ],
            [
             0.1111111111111111,
             "#46039f"
            ],
            [
             0.2222222222222222,
             "#7201a8"
            ],
            [
             0.3333333333333333,
             "#9c179e"
            ],
            [
             0.4444444444444444,
             "#bd3786"
            ],
            [
             0.5555555555555556,
             "#d8576b"
            ],
            [
             0.6666666666666666,
             "#ed7953"
            ],
            [
             0.7777777777777778,
             "#fb9f3a"
            ],
            [
             0.8888888888888888,
             "#fdca26"
            ],
            [
             1.0,
             "#f0f921"
            ]
           ],
           "sequentialminus": [
            [
             0.0,
             "#0d0887"
            ],
            [
             0.1111111111111111,
             "#46039f"
            ],
            [
             0.2222222222222222,
             "#7201a8"
            ],
            [
             0.3333333333333333,
             "#9c179e"
            ],
            [
             0.4444444444444444,
             "#bd3786"
            ],
            [
             0.5555555555555556,
             "#d8576b"
            ],
            [
             0.6666666666666666,
             "#ed7953"
            ],
            [
             0.7777777777777778,
             "#fb9f3a"
            ],
            [
             0.8888888888888888,
             "#fdca26"
            ],
            [
             1.0,
             "#f0f921"
            ]
           ],
           "diverging": [
            [
             0,
             "#8e0152"
            ],
            [
             0.1,
             "#c51b7d"
            ],
            [
             0.2,
             "#de77ae"
            ],
            [
             0.3,
             "#f1b6da"
            ],
            [
             0.4,
             "#fde0ef"
            ],
            [
             0.5,
             "#f7f7f7"
            ],
            [
             0.6,
             "#e6f5d0"
            ],
            [
             0.7,
             "#b8e186"
            ],
            [
             0.8,
             "#7fbc41"
            ],
            [
             0.9,
             "#4d9221"
            ],
            [
             1,
             "#276419"
            ]
           ]
          },
          "xaxis": {
           "gridcolor": "#283442",
           "linecolor": "#506784",
           "ticks": "",
           "title": {
            "standoff": 15
           },
           "zerolinecolor": "#283442",
           "automargin": true,
           "zerolinewidth": 2
          },
          "yaxis": {
           "gridcolor": "#283442",
           "linecolor": "#506784",
           "ticks": "",
           "title": {
            "standoff": 15
           },
           "zerolinecolor": "#283442",
           "automargin": true,
           "zerolinewidth": 2
          },
          "scene": {
           "xaxis": {
            "backgroundcolor": "rgb(17,17,17)",
            "gridcolor": "#506784",
            "linecolor": "#506784",
            "showbackground": true,
            "ticks": "",
            "zerolinecolor": "#C8D4E3",
            "gridwidth": 2
           },
           "yaxis": {
            "backgroundcolor": "rgb(17,17,17)",
            "gridcolor": "#506784",
            "linecolor": "#506784",
            "showbackground": true,
            "ticks": "",
            "zerolinecolor": "#C8D4E3",
            "gridwidth": 2
           },
           "zaxis": {
            "backgroundcolor": "rgb(17,17,17)",
            "gridcolor": "#506784",
            "linecolor": "#506784",
            "showbackground": true,
            "ticks": "",
            "zerolinecolor": "#C8D4E3",
            "gridwidth": 2
           }
          },
          "shapedefaults": {
           "line": {
            "color": "#f2f5fa"
           }
          },
          "annotationdefaults": {
           "arrowcolor": "#f2f5fa",
           "arrowhead": 0,
           "arrowwidth": 1
          },
          "geo": {
           "bgcolor": "rgb(17,17,17)",
           "landcolor": "rgb(17,17,17)",
           "subunitcolor": "#506784",
           "showland": true,
           "showlakes": true,
           "lakecolor": "rgb(17,17,17)"
          },
          "title": {
           "x": 0.05
          },
          "updatemenudefaults": {
           "bgcolor": "#506784",
           "borderwidth": 0
          },
          "sliderdefaults": {
           "bgcolor": "#C8D4E3",
           "borderwidth": 1,
           "bordercolor": "rgb(17,17,17)",
           "tickwidth": 0
          },
          "mapbox": {
           "style": "dark"
          }
         }
        },
        "xaxis": {
         "anchor": "y",
         "domain": [
          0.0,
          1.0
         ],
         "title": {
          "text": "Service"
         },
         "tickangle": -45
        },
        "yaxis": {
         "anchor": "x",
         "domain": [
          0.0,
          1.0
         ],
         "title": {
          "text": "Average Ranking"
         }
        },
        "legend": {
         "tracegroupgap": 0
        },
        "margin": {
         "t": 60
        },
        "barmode": "relative",
        "height": 600,
        "showlegend": false
       },
       "config": {
        "plotlyServerURL": "https://plot.ly"
       }
      },
      "text/html": [
       "<div>                            <div id=\"58afecc8-af03-4f88-bff2-c45049e3b187\" class=\"plotly-graph-div\" style=\"height:600px; width:100%;\"></div>            <script type=\"text/javascript\">                require([\"plotly\"], function(Plotly) {                    window.PLOTLYENV=window.PLOTLYENV || {};                                    if (document.getElementById(\"58afecc8-af03-4f88-bff2-c45049e3b187\")) {                    Plotly.newPlot(                        \"58afecc8-af03-4f88-bff2-c45049e3b187\",                        [{\"alignmentgroup\":\"True\",\"hovertemplate\":\"Service=%{x}\\u003cbr\\u003eAverage Ranking=%{y}\\u003cextra\\u003e\\u003c\\u002fextra\\u003e\",\"legendgroup\":\"\",\"marker\":{\"color\":\"#636efa\",\"pattern\":{\"shape\":\"\"}},\"name\":\"\",\"offsetgroup\":\"\",\"orientation\":\"v\",\"showlegend\":false,\"textposition\":\"auto\",\"x\":[\"Roads, footpaths, and cycle ways.\",\"Drinking water, wastewater, and stormwater services.\",\"Rubbish and recycling services.\",\"Public facilities, such as community centres.\",\"Building and planning.\",\"Outdoor spaces, such as parks.\",\"Community services, such as events.\",\"Business licensing and compliance.\"],\"xaxis\":\"x\",\"y\":[2.771178952844736,3.463682788608354,3.754437172437026,3.97215998153567,4.0644754235852565,4.319829926698198,4.583616632661457,5.639996696543043],\"yaxis\":\"y\",\"type\":\"bar\"}],                        {\"template\":{\"data\":{\"histogram2dcontour\":[{\"type\":\"histogram2dcontour\",\"colorbar\":{\"outlinewidth\":0,\"ticks\":\"\"},\"colorscale\":[[0.0,\"#0d0887\"],[0.1111111111111111,\"#46039f\"],[0.2222222222222222,\"#7201a8\"],[0.3333333333333333,\"#9c179e\"],[0.4444444444444444,\"#bd3786\"],[0.5555555555555556,\"#d8576b\"],[0.6666666666666666,\"#ed7953\"],[0.7777777777777778,\"#fb9f3a\"],[0.8888888888888888,\"#fdca26\"],[1.0,\"#f0f921\"]]}],\"choropleth\":[{\"type\":\"choropleth\",\"colorbar\":{\"outlinewidth\":0,\"ticks\":\"\"}}],\"histogram2d\":[{\"type\":\"histogram2d\",\"colorbar\":{\"outlinewidth\":0,\"ticks\":\"\"},\"colorscale\":[[0.0,\"#0d0887\"],[0.1111111111111111,\"#46039f\"],[0.2222222222222222,\"#7201a8\"],[0.3333333333333333,\"#9c179e\"],[0.4444444444444444,\"#bd3786\"],[0.5555555555555556,\"#d8576b\"],[0.6666666666666666,\"#ed7953\"],[0.7777777777777778,\"#fb9f3a\"],[0.8888888888888888,\"#fdca26\"],[1.0,\"#f0f921\"]]}],\"heatmap\":[{\"type\":\"heatmap\",\"colorbar\":{\"outlinewidth\":0,\"ticks\":\"\"},\"colorscale\":[[0.0,\"#0d0887\"],[0.1111111111111111,\"#46039f\"],[0.2222222222222222,\"#7201a8\"],[0.3333333333333333,\"#9c179e\"],[0.4444444444444444,\"#bd3786\"],[0.5555555555555556,\"#d8576b\"],[0.6666666666666666,\"#ed7953\"],[0.7777777777777778,\"#fb9f3a\"],[0.8888888888888888,\"#fdca26\"],[1.0,\"#f0f921\"]]}],\"heatmapgl\":[{\"type\":\"heatmapgl\",\"colorbar\":{\"outlinewidth\":0,\"ticks\":\"\"},\"colorscale\":[[0.0,\"#0d0887\"],[0.1111111111111111,\"#46039f\"],[0.2222222222222222,\"#7201a8\"],[0.3333333333333333,\"#9c179e\"],[0.4444444444444444,\"#bd3786\"],[0.5555555555555556,\"#d8576b\"],[0.6666666666666666,\"#ed7953\"],[0.7777777777777778,\"#fb9f3a\"],[0.8888888888888888,\"#fdca26\"],[1.0,\"#f0f921\"]]}],\"contourcarpet\":[{\"type\":\"contourcarpet\",\"colorbar\":{\"outlinewidth\":0,\"ticks\":\"\"}}],\"contour\":[{\"type\":\"contour\",\"colorbar\":{\"outlinewidth\":0,\"ticks\":\"\"},\"colorscale\":[[0.0,\"#0d0887\"],[0.1111111111111111,\"#46039f\"],[0.2222222222222222,\"#7201a8\"],[0.3333333333333333,\"#9c179e\"],[0.4444444444444444,\"#bd3786\"],[0.5555555555555556,\"#d8576b\"],[0.6666666666666666,\"#ed7953\"],[0.7777777777777778,\"#fb9f3a\"],[0.8888888888888888,\"#fdca26\"],[1.0,\"#f0f921\"]]}],\"surface\":[{\"type\":\"surface\",\"colorbar\":{\"outlinewidth\":0,\"ticks\":\"\"},\"colorscale\":[[0.0,\"#0d0887\"],[0.1111111111111111,\"#46039f\"],[0.2222222222222222,\"#7201a8\"],[0.3333333333333333,\"#9c179e\"],[0.4444444444444444,\"#bd3786\"],[0.5555555555555556,\"#d8576b\"],[0.6666666666666666,\"#ed7953\"],[0.7777777777777778,\"#fb9f3a\"],[0.8888888888888888,\"#fdca26\"],[1.0,\"#f0f921\"]]}],\"mesh3d\":[{\"type\":\"mesh3d\",\"colorbar\":{\"outlinewidth\":0,\"ticks\":\"\"}}],\"scatter\":[{\"marker\":{\"line\":{\"color\":\"#283442\"}},\"type\":\"scatter\"}],\"parcoords\":[{\"type\":\"parcoords\",\"line\":{\"colorbar\":{\"outlinewidth\":0,\"ticks\":\"\"}}}],\"scatterpolargl\":[{\"type\":\"scatterpolargl\",\"marker\":{\"colorbar\":{\"outlinewidth\":0,\"ticks\":\"\"}}}],\"bar\":[{\"error_x\":{\"color\":\"#f2f5fa\"},\"error_y\":{\"color\":\"#f2f5fa\"},\"marker\":{\"line\":{\"color\":\"rgb(17,17,17)\",\"width\":0.5},\"pattern\":{\"fillmode\":\"overlay\",\"size\":10,\"solidity\":0.2}},\"type\":\"bar\"}],\"scattergeo\":[{\"type\":\"scattergeo\",\"marker\":{\"colorbar\":{\"outlinewidth\":0,\"ticks\":\"\"}}}],\"scatterpolar\":[{\"type\":\"scatterpolar\",\"marker\":{\"colorbar\":{\"outlinewidth\":0,\"ticks\":\"\"}}}],\"histogram\":[{\"marker\":{\"pattern\":{\"fillmode\":\"overlay\",\"size\":10,\"solidity\":0.2}},\"type\":\"histogram\"}],\"scattergl\":[{\"marker\":{\"line\":{\"color\":\"#283442\"}},\"type\":\"scattergl\"}],\"scatter3d\":[{\"type\":\"scatter3d\",\"line\":{\"colorbar\":{\"outlinewidth\":0,\"ticks\":\"\"}},\"marker\":{\"colorbar\":{\"outlinewidth\":0,\"ticks\":\"\"}}}],\"scattermapbox\":[{\"type\":\"scattermapbox\",\"marker\":{\"colorbar\":{\"outlinewidth\":0,\"ticks\":\"\"}}}],\"scatterternary\":[{\"type\":\"scatterternary\",\"marker\":{\"colorbar\":{\"outlinewidth\":0,\"ticks\":\"\"}}}],\"scattercarpet\":[{\"type\":\"scattercarpet\",\"marker\":{\"colorbar\":{\"outlinewidth\":0,\"ticks\":\"\"}}}],\"carpet\":[{\"aaxis\":{\"endlinecolor\":\"#A2B1C6\",\"gridcolor\":\"#506784\",\"linecolor\":\"#506784\",\"minorgridcolor\":\"#506784\",\"startlinecolor\":\"#A2B1C6\"},\"baxis\":{\"endlinecolor\":\"#A2B1C6\",\"gridcolor\":\"#506784\",\"linecolor\":\"#506784\",\"minorgridcolor\":\"#506784\",\"startlinecolor\":\"#A2B1C6\"},\"type\":\"carpet\"}],\"table\":[{\"cells\":{\"fill\":{\"color\":\"#506784\"},\"line\":{\"color\":\"rgb(17,17,17)\"}},\"header\":{\"fill\":{\"color\":\"#2a3f5f\"},\"line\":{\"color\":\"rgb(17,17,17)\"}},\"type\":\"table\"}],\"barpolar\":[{\"marker\":{\"line\":{\"color\":\"rgb(17,17,17)\",\"width\":0.5},\"pattern\":{\"fillmode\":\"overlay\",\"size\":10,\"solidity\":0.2}},\"type\":\"barpolar\"}],\"pie\":[{\"automargin\":true,\"type\":\"pie\"}]},\"layout\":{\"autotypenumbers\":\"strict\",\"colorway\":[\"#636efa\",\"#EF553B\",\"#00cc96\",\"#ab63fa\",\"#FFA15A\",\"#19d3f3\",\"#FF6692\",\"#B6E880\",\"#FF97FF\",\"#FECB52\"],\"font\":{\"color\":\"#f2f5fa\"},\"hovermode\":\"closest\",\"hoverlabel\":{\"align\":\"left\"},\"paper_bgcolor\":\"rgb(17,17,17)\",\"plot_bgcolor\":\"rgb(17,17,17)\",\"polar\":{\"bgcolor\":\"rgb(17,17,17)\",\"angularaxis\":{\"gridcolor\":\"#506784\",\"linecolor\":\"#506784\",\"ticks\":\"\"},\"radialaxis\":{\"gridcolor\":\"#506784\",\"linecolor\":\"#506784\",\"ticks\":\"\"}},\"ternary\":{\"bgcolor\":\"rgb(17,17,17)\",\"aaxis\":{\"gridcolor\":\"#506784\",\"linecolor\":\"#506784\",\"ticks\":\"\"},\"baxis\":{\"gridcolor\":\"#506784\",\"linecolor\":\"#506784\",\"ticks\":\"\"},\"caxis\":{\"gridcolor\":\"#506784\",\"linecolor\":\"#506784\",\"ticks\":\"\"}},\"coloraxis\":{\"colorbar\":{\"outlinewidth\":0,\"ticks\":\"\"}},\"colorscale\":{\"sequential\":[[0.0,\"#0d0887\"],[0.1111111111111111,\"#46039f\"],[0.2222222222222222,\"#7201a8\"],[0.3333333333333333,\"#9c179e\"],[0.4444444444444444,\"#bd3786\"],[0.5555555555555556,\"#d8576b\"],[0.6666666666666666,\"#ed7953\"],[0.7777777777777778,\"#fb9f3a\"],[0.8888888888888888,\"#fdca26\"],[1.0,\"#f0f921\"]],\"sequentialminus\":[[0.0,\"#0d0887\"],[0.1111111111111111,\"#46039f\"],[0.2222222222222222,\"#7201a8\"],[0.3333333333333333,\"#9c179e\"],[0.4444444444444444,\"#bd3786\"],[0.5555555555555556,\"#d8576b\"],[0.6666666666666666,\"#ed7953\"],[0.7777777777777778,\"#fb9f3a\"],[0.8888888888888888,\"#fdca26\"],[1.0,\"#f0f921\"]],\"diverging\":[[0,\"#8e0152\"],[0.1,\"#c51b7d\"],[0.2,\"#de77ae\"],[0.3,\"#f1b6da\"],[0.4,\"#fde0ef\"],[0.5,\"#f7f7f7\"],[0.6,\"#e6f5d0\"],[0.7,\"#b8e186\"],[0.8,\"#7fbc41\"],[0.9,\"#4d9221\"],[1,\"#276419\"]]},\"xaxis\":{\"gridcolor\":\"#283442\",\"linecolor\":\"#506784\",\"ticks\":\"\",\"title\":{\"standoff\":15},\"zerolinecolor\":\"#283442\",\"automargin\":true,\"zerolinewidth\":2},\"yaxis\":{\"gridcolor\":\"#283442\",\"linecolor\":\"#506784\",\"ticks\":\"\",\"title\":{\"standoff\":15},\"zerolinecolor\":\"#283442\",\"automargin\":true,\"zerolinewidth\":2},\"scene\":{\"xaxis\":{\"backgroundcolor\":\"rgb(17,17,17)\",\"gridcolor\":\"#506784\",\"linecolor\":\"#506784\",\"showbackground\":true,\"ticks\":\"\",\"zerolinecolor\":\"#C8D4E3\",\"gridwidth\":2},\"yaxis\":{\"backgroundcolor\":\"rgb(17,17,17)\",\"gridcolor\":\"#506784\",\"linecolor\":\"#506784\",\"showbackground\":true,\"ticks\":\"\",\"zerolinecolor\":\"#C8D4E3\",\"gridwidth\":2},\"zaxis\":{\"backgroundcolor\":\"rgb(17,17,17)\",\"gridcolor\":\"#506784\",\"linecolor\":\"#506784\",\"showbackground\":true,\"ticks\":\"\",\"zerolinecolor\":\"#C8D4E3\",\"gridwidth\":2}},\"shapedefaults\":{\"line\":{\"color\":\"#f2f5fa\"}},\"annotationdefaults\":{\"arrowcolor\":\"#f2f5fa\",\"arrowhead\":0,\"arrowwidth\":1},\"geo\":{\"bgcolor\":\"rgb(17,17,17)\",\"landcolor\":\"rgb(17,17,17)\",\"subunitcolor\":\"#506784\",\"showland\":true,\"showlakes\":true,\"lakecolor\":\"rgb(17,17,17)\"},\"title\":{\"x\":0.05},\"updatemenudefaults\":{\"bgcolor\":\"#506784\",\"borderwidth\":0},\"sliderdefaults\":{\"bgcolor\":\"#C8D4E3\",\"borderwidth\":1,\"bordercolor\":\"rgb(17,17,17)\",\"tickwidth\":0},\"mapbox\":{\"style\":\"dark\"}}},\"xaxis\":{\"anchor\":\"y\",\"domain\":[0.0,1.0],\"title\":{\"text\":\"Service\"},\"tickangle\":-45},\"yaxis\":{\"anchor\":\"x\",\"domain\":[0.0,1.0],\"title\":{\"text\":\"Average Ranking\"}},\"legend\":{\"tracegroupgap\":0},\"margin\":{\"t\":60},\"barmode\":\"relative\",\"height\":600,\"showlegend\":false},                        {\"responsive\": true}                    ).then(function(){\n",
       "                            \n",
       "var gd = document.getElementById('58afecc8-af03-4f88-bff2-c45049e3b187');\n",
       "var x = new MutationObserver(function (mutations, observer) {{\n",
       "        var display = window.getComputedStyle(gd).display;\n",
       "        if (!display || display === 'none') {{\n",
       "            console.log([gd, 'removed!']);\n",
       "            Plotly.purge(gd);\n",
       "            observer.disconnect();\n",
       "        }}\n",
       "}});\n",
       "\n",
       "// Listen for the removal of the full notebook cells\n",
       "var notebookContainer = gd.closest('#notebook-container');\n",
       "if (notebookContainer) {{\n",
       "    x.observe(notebookContainer, {childList: true});\n",
       "}}\n",
       "\n",
       "// Listen for the clearing of the current output cell\n",
       "var outputEl = gd.closest('.output');\n",
       "if (outputEl) {{\n",
       "    x.observe(outputEl, {childList: true});\n",
       "}}\n",
       "\n",
       "                        })                };                });            </script>        </div>"
      ]
     },
     "metadata": {},
     "output_type": "display_data"
    }
   ],
   "execution_count": 20
  }
 ],
 "metadata": {
  "kernelspec": {
   "display_name": "Python 3",
   "language": "python",
   "name": "python3"
  },
  "language_info": {
   "codemirror_mode": {
    "name": "ipython",
    "version": 2
   },
   "file_extension": ".py",
   "mimetype": "text/x-python",
   "name": "python",
   "nbconvert_exporter": "python",
   "pygments_lexer": "ipython2",
   "version": "2.7.6"
  }
 },
 "nbformat": 4,
 "nbformat_minor": 5
}
