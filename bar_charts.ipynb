{
 "cells": [
  {
   "cell_type": "code",
   "id": "initial_id",
   "metadata": {
    "collapsed": true,
    "ExecuteTime": {
     "end_time": "2025-02-02T00:05:40.535767Z",
     "start_time": "2025-02-02T00:05:40.405915Z"
    }
   },
   "source": [
    "from matplotlib import pyplot as plt\n",
    "from enum import Enum\n",
    "import plotly.express as px\n",
    "import pandas as pd\n",
    "\n",
    "class Scale(Enum):\n",
    "    LIKELY = ['Very unlikely ',\n",
    "        'Unlikely ',\n",
    "        'Neutral ',\n",
    "        'Likely ',\n",
    "        'Very likely ']\n",
    "    IMPORTANT = ['Not at all important',\n",
    "        'Not important',\n",
    "        'Neutral',\n",
    "        'Important',\n",
    "        'Very important']\n",
    "    SKILL = ['Very low',\n",
    "        'Low',\n",
    "        'Somewhat low',\n",
    "        'Neutral',\n",
    "        'Somewhat high',\n",
    "        'High',\n",
    "        'Very high']\n",
    "\n",
    "class Colours(Enum):\n",
    "    FIVE = [\"#FF0000\", \"#FF7F7F\", \"#7F7F7F\", \"#7F7FFF\", \"#0000FF\"]\n",
    "    SEVEN = [\"#FF0000\", \"#FF5555\", \"#FFAAAA\", \"#7F7F7F\", \"#AAAAFF\", \"#5555FF\", \"#0000FF\"]\n",
    "\n",
    "def stack_counts(df, columns, scale):\n",
    "    df_subset = df[columns]\n",
    "\n",
    "    # Turn long data into wide\n",
    "    counts_df = pd.melt(df_subset, var_name='question', value_name='response')\n",
    "\n",
    "    # Count the occurrences of each category for each question\n",
    "    counts_df = pd.crosstab(counts_df['question'], counts_df['response'], dropna=False)\n",
    "\n",
    "    # Reorder columns\n",
    "    counts_df = counts_df[scale.value]\n",
    "\n",
    "    # Calc percent\n",
    "    counts_df = counts_df.div(counts_df.sum(axis=1), axis=0)\n",
    "\n",
    "    return counts_df\n",
    "\n",
    "def insert_line_break(text, char_num):\n",
    "    result = []\n",
    "    \n",
    "    while len(text) > char_num:\n",
    "        # Find the last space before or at the 40th character\n",
    "        space_index = text.rfind(' ', 0, char_num)\n",
    "        \n",
    "        if space_index == -1:  # No space found, force break at 40\n",
    "            space_index = char_num\n",
    "        else:\n",
    "            space_index += 1  # Include the space in the cut\n",
    "        \n",
    "        result.append(text[:space_index].rstrip())  # Add substring before the break\n",
    "        text = text[space_index:].lstrip()  # Remove processed part and leading space\n",
    "    \n",
    "    result.append(text)  # Add remaining text\n",
    "    return '<br>'.join(result)\n",
    "\n",
    "def stacked_bars(df, columns, scale):\n",
    "    counts_df = stack_counts(df, columns, scale)\n",
    "    \n",
    "    # Break up long question labels\n",
    "    counts_df.index = counts_df.index.map(lambda text: insert_line_break(text, 40))\n",
    "\n",
    "    if len(scale.value) == 5:\n",
    "        colours = Colours.FIVE.value\n",
    "    elif len(scale.value) == 7:\n",
    "        colours = Colours.SEVEN.value\n",
    "\n",
    "    # Create figure\n",
    "    fig = px.bar(counts_df, x=scale.value, color_discrete_sequence=colours)\n",
    "    fig.update_xaxes(tickformat=\",.2%\", title_text=\"Response Distribution (%)\")\n",
    "    fig.update_yaxes(title_text=\"Issue\")\n",
    "    fig.update_layout(legend_title=\"Response Category\")\n",
    "    fig.show()\n",
    "\n",
    "def ranking_counts(df, columns):\n",
    "    df = df[columns]\n",
    "    # Create a DataFrame to store counts of ranking positions\n",
    "    rankings = pd.DataFrame(index=df.columns, columns=range(1, len(columns)))\n",
    "\n",
    "    # Count how many times each ranking value occurs for each issue\n",
    "    for col in df.columns:\n",
    "        rankings.loc[col] = [df[col].tolist().count(i) for i in range(1, len(columns))]\n",
    "\n",
    "    return rankings\n",
    "\n",
    "def grouped_bars(df, columns):\n",
    "    # Get the counts of rankings per issue using the provided function.\n",
    "    rankings = ranking_counts(df, columns)\n",
    "    rankings.index = rankings.index.map(lambda text: insert_line_break(text, 30))\n",
    "    # rankings now has issues as its index and ranking positions (1, 2, …, len(columns)-1) as its columns.\n",
    "\n",
    "    # Reset the index to convert the issue names into a column.\n",
    "    rankings_reset = rankings.reset_index().rename(columns={'index': 'Service'})\n",
    "    \n",
    "    # Convert the data from wide to long format.\n",
    "    # Each row will have an Issue, a Ranking, and the corresponding Count.\n",
    "    rankings_long = rankings_reset.melt(\n",
    "        id_vars='Service',\n",
    "        var_name='Ranking',\n",
    "        value_name='Count'\n",
    "    )\n",
    "    \n",
    "    # Create the grouped bar chart using Plotly Express.\n",
    "    fig = px.bar(\n",
    "        rankings_long,\n",
    "        x=\"Service\",\n",
    "        y=\"Count\",\n",
    "        color=\"Ranking\",\n",
    "        barmode=\"group\",  # This places the ranking bars side-by-side for each issue.\n",
    "        labels={\n",
    "            \"Service\": \"Service\",\n",
    "            \"Count\": \"Count of ranking\",\n",
    "            \"Ranking\": \"Ranking\".format(len(columns)-1)\n",
    "        }\n",
    "    )\n",
    "    \n",
    "    # Rotate x-axis labels for clarity, especially if issue names are long.\n",
    "    fig.update_layout(xaxis_tickangle=-45, height=600)\n",
    "    \n",
    "    fig.show()\n",
    "\n",
    "def average_bars(df, columns):\n",
    "    df = df[columns]\n",
    "\n",
    "    # Calculate the average ranking for each category (mean of each column)\n",
    "    average_rankings = df.mean()\n",
    "\n",
    "    # Sort the rankings for better visualization\n",
    "    average_rankings_sorted = average_rankings.sort_values()\n",
    "\n",
    "    # Plotting\n",
    "    plt.figure(figsize=(10, 6))\n",
    "    average_rankings_sorted.plot(kind='bar')\n",
    "\n",
    "    # Customize the chart\n",
    "    plt.xlabel('Issue')\n",
    "    plt.ylabel('Average Ranking')\n",
    "    plt.xticks(rotation=45, ha='right')\n",
    "    plt.tight_layout()\n",
    "\n",
    "    # Show the plot\n",
    "    plt.show()\n",
    "\n",
    "# df = pd.read_csv('data/all-responses-CLEANED.csv')\n",
    "# stacked_bars(df, ['Traffic congestion.',\n",
    "#            'A revitalised city centre.',\n",
    "#            'Reliable and timely public transport.',\n",
    "#            'Public safety.',\n",
    "#            'Visibility of available parking.',\n",
    "#            'Staying informed and providing feedback on council decisions.'],\n",
    "#             Scale.IMPORTANT)\n",
    "# columns = ['Roads, footpaths, and cycle ways.',\n",
    "#            'Rubbish and recycling services.',\n",
    "#            'Building and planning.',\n",
    "#            'Outdoor spaces, such as parks.',\n",
    "#            'Public facilities, such as community centres.',\n",
    "#            'Drinking water, wastewater, and stormwater services.',\n",
    "#            'Business licensing and compliance.',\n",
    "#            'Community services, such as events.']\n",
    "# grouped_bars(df, columns)\n",
    "# average_bars(df, ['Q21_1 - Roads, footpaths, and cycle ways. ',\n",
    "#        'Q21_4 - Rubbish and recycling services. ',\n",
    "#        'Q21_5 - Building and planning. ',\n",
    "#        'Q21_6 - Outdoor spaces, such as parks. ',\n",
    "#        'Q21_7 - Public facilities, such as community centres.  ',\n",
    "#        'Q21_8 - Drinking water, wastewater, and stormwater services. ',\n",
    "#        'Q21_9 - Business licensing and compliance. ',\n",
    "#        'Q21_10 - Community services, such as events. '])"
   ],
   "outputs": [
    {
     "data": {
      "application/vnd.plotly.v1+json": {
       "data": [
        {
         "alignmentgroup": "True",
         "hovertemplate": "Ranking (1=least, 7=most)=1<br>Service=%{x}<br>Count of ranking=%{y}<extra></extra>",
         "legendgroup": "1",
         "marker": {
          "color": "#636efa",
          "pattern": {
           "shape": ""
          }
         },
         "name": "1",
         "offsetgroup": "1",
         "orientation": "v",
         "showlegend": true,
         "textposition": "auto",
         "x": [
          "Roads, footpaths, and cycle<br>ways.",
          "Rubbish and recycling<br>services.",
          "Building and planning.",
          "Outdoor spaces, such as parks.",
          "Public facilities, such as<br>community centres.",
          "Drinking water, wastewater,<br>and stormwater services.",
          "Business licensing and<br>compliance.",
          "Community services, such as<br>events."
         ],
         "xaxis": "x",
         "y": [
          71,
          18,
          27,
          10,
          12,
          43,
          8,
          19
         ],
         "yaxis": "y",
         "type": "bar"
        },
        {
         "alignmentgroup": "True",
         "hovertemplate": "Ranking (1=least, 7=most)=2<br>Service=%{x}<br>Count of ranking=%{y}<extra></extra>",
         "legendgroup": "2",
         "marker": {
          "color": "#EF553B",
          "pattern": {
           "shape": ""
          }
         },
         "name": "2",
         "offsetgroup": "2",
         "orientation": "v",
         "showlegend": true,
         "textposition": "auto",
         "x": [
          "Roads, footpaths, and cycle<br>ways.",
          "Rubbish and recycling<br>services.",
          "Building and planning.",
          "Outdoor spaces, such as parks.",
          "Public facilities, such as<br>community centres.",
          "Drinking water, wastewater,<br>and stormwater services.",
          "Business licensing and<br>compliance.",
          "Community services, such as<br>events."
         ],
         "xaxis": "x",
         "y": [
          35,
          38,
          28,
          22,
          26,
          35,
          11,
          18
         ],
         "yaxis": "y",
         "type": "bar"
        },
        {
         "alignmentgroup": "True",
         "hovertemplate": "Ranking (1=least, 7=most)=3<br>Service=%{x}<br>Count of ranking=%{y}<extra></extra>",
         "legendgroup": "3",
         "marker": {
          "color": "#00cc96",
          "pattern": {
           "shape": ""
          }
         },
         "name": "3",
         "offsetgroup": "3",
         "orientation": "v",
         "showlegend": true,
         "textposition": "auto",
         "x": [
          "Roads, footpaths, and cycle<br>ways.",
          "Rubbish and recycling<br>services.",
          "Building and planning.",
          "Outdoor spaces, such as parks.",
          "Public facilities, such as<br>community centres.",
          "Drinking water, wastewater,<br>and stormwater services.",
          "Business licensing and<br>compliance.",
          "Community services, such as<br>events."
         ],
         "xaxis": "x",
         "y": [
          28,
          33,
          33,
          29,
          31,
          26,
          16,
          19
         ],
         "yaxis": "y",
         "type": "bar"
        },
        {
         "alignmentgroup": "True",
         "hovertemplate": "Ranking (1=least, 7=most)=4<br>Service=%{x}<br>Count of ranking=%{y}<extra></extra>",
         "legendgroup": "4",
         "marker": {
          "color": "#ab63fa",
          "pattern": {
           "shape": ""
          }
         },
         "name": "4",
         "offsetgroup": "4",
         "orientation": "v",
         "showlegend": true,
         "textposition": "auto",
         "x": [
          "Roads, footpaths, and cycle<br>ways.",
          "Rubbish and recycling<br>services.",
          "Building and planning.",
          "Outdoor spaces, such as parks.",
          "Public facilities, such as<br>community centres.",
          "Drinking water, wastewater,<br>and stormwater services.",
          "Business licensing and<br>compliance.",
          "Community services, such as<br>events."
         ],
         "xaxis": "x",
         "y": [
          23,
          33,
          29,
          22,
          29,
          35,
          23,
          24
         ],
         "yaxis": "y",
         "type": "bar"
        },
        {
         "alignmentgroup": "True",
         "hovertemplate": "Ranking (1=least, 7=most)=5<br>Service=%{x}<br>Count of ranking=%{y}<extra></extra>",
         "legendgroup": "5",
         "marker": {
          "color": "#FFA15A",
          "pattern": {
           "shape": ""
          }
         },
         "name": "5",
         "offsetgroup": "5",
         "orientation": "v",
         "showlegend": true,
         "textposition": "auto",
         "x": [
          "Roads, footpaths, and cycle<br>ways.",
          "Rubbish and recycling<br>services.",
          "Building and planning.",
          "Outdoor spaces, such as parks.",
          "Public facilities, such as<br>community centres.",
          "Drinking water, wastewater,<br>and stormwater services.",
          "Business licensing and<br>compliance.",
          "Community services, such as<br>events."
         ],
         "xaxis": "x",
         "y": [
          20,
          35,
          21,
          35,
          38,
          35,
          14,
          18
         ],
         "yaxis": "y",
         "type": "bar"
        },
        {
         "alignmentgroup": "True",
         "hovertemplate": "Ranking (1=least, 7=most)=6<br>Service=%{x}<br>Count of ranking=%{y}<extra></extra>",
         "legendgroup": "6",
         "marker": {
          "color": "#19d3f3",
          "pattern": {
           "shape": ""
          }
         },
         "name": "6",
         "offsetgroup": "6",
         "orientation": "v",
         "showlegend": true,
         "textposition": "auto",
         "x": [
          "Roads, footpaths, and cycle<br>ways.",
          "Rubbish and recycling<br>services.",
          "Building and planning.",
          "Outdoor spaces, such as parks.",
          "Public facilities, such as<br>community centres.",
          "Drinking water, wastewater,<br>and stormwater services.",
          "Business licensing and<br>compliance.",
          "Community services, such as<br>events."
         ],
         "xaxis": "x",
         "y": [
          20,
          30,
          23,
          31,
          45,
          14,
          25,
          28
         ],
         "yaxis": "y",
         "type": "bar"
        },
        {
         "alignmentgroup": "True",
         "hovertemplate": "Ranking (1=least, 7=most)=7<br>Service=%{x}<br>Count of ranking=%{y}<extra></extra>",
         "legendgroup": "7",
         "marker": {
          "color": "#FF6692",
          "pattern": {
           "shape": ""
          }
         },
         "name": "7",
         "offsetgroup": "7",
         "orientation": "v",
         "showlegend": true,
         "textposition": "auto",
         "x": [
          "Roads, footpaths, and cycle<br>ways.",
          "Rubbish and recycling<br>services.",
          "Building and planning.",
          "Outdoor spaces, such as parks.",
          "Public facilities, such as<br>community centres.",
          "Drinking water, wastewater,<br>and stormwater services.",
          "Business licensing and<br>compliance.",
          "Community services, such as<br>events."
         ],
         "xaxis": "x",
         "y": [
          6,
          17,
          38,
          38,
          29,
          16,
          42,
          32
         ],
         "yaxis": "y",
         "type": "bar"
        }
       ],
       "layout": {
        "template": {
         "data": {
          "histogram2dcontour": [
           {
            "type": "histogram2dcontour",
            "colorbar": {
             "outlinewidth": 0,
             "ticks": ""
            },
            "colorscale": [
             [
              0.0,
              "#0d0887"
             ],
             [
              0.1111111111111111,
              "#46039f"
             ],
             [
              0.2222222222222222,
              "#7201a8"
             ],
             [
              0.3333333333333333,
              "#9c179e"
             ],
             [
              0.4444444444444444,
              "#bd3786"
             ],
             [
              0.5555555555555556,
              "#d8576b"
             ],
             [
              0.6666666666666666,
              "#ed7953"
             ],
             [
              0.7777777777777778,
              "#fb9f3a"
             ],
             [
              0.8888888888888888,
              "#fdca26"
             ],
             [
              1.0,
              "#f0f921"
             ]
            ]
           }
          ],
          "choropleth": [
           {
            "type": "choropleth",
            "colorbar": {
             "outlinewidth": 0,
             "ticks": ""
            }
           }
          ],
          "histogram2d": [
           {
            "type": "histogram2d",
            "colorbar": {
             "outlinewidth": 0,
             "ticks": ""
            },
            "colorscale": [
             [
              0.0,
              "#0d0887"
             ],
             [
              0.1111111111111111,
              "#46039f"
             ],
             [
              0.2222222222222222,
              "#7201a8"
             ],
             [
              0.3333333333333333,
              "#9c179e"
             ],
             [
              0.4444444444444444,
              "#bd3786"
             ],
             [
              0.5555555555555556,
              "#d8576b"
             ],
             [
              0.6666666666666666,
              "#ed7953"
             ],
             [
              0.7777777777777778,
              "#fb9f3a"
             ],
             [
              0.8888888888888888,
              "#fdca26"
             ],
             [
              1.0,
              "#f0f921"
             ]
            ]
           }
          ],
          "heatmap": [
           {
            "type": "heatmap",
            "colorbar": {
             "outlinewidth": 0,
             "ticks": ""
            },
            "colorscale": [
             [
              0.0,
              "#0d0887"
             ],
             [
              0.1111111111111111,
              "#46039f"
             ],
             [
              0.2222222222222222,
              "#7201a8"
             ],
             [
              0.3333333333333333,
              "#9c179e"
             ],
             [
              0.4444444444444444,
              "#bd3786"
             ],
             [
              0.5555555555555556,
              "#d8576b"
             ],
             [
              0.6666666666666666,
              "#ed7953"
             ],
             [
              0.7777777777777778,
              "#fb9f3a"
             ],
             [
              0.8888888888888888,
              "#fdca26"
             ],
             [
              1.0,
              "#f0f921"
             ]
            ]
           }
          ],
          "heatmapgl": [
           {
            "type": "heatmapgl",
            "colorbar": {
             "outlinewidth": 0,
             "ticks": ""
            },
            "colorscale": [
             [
              0.0,
              "#0d0887"
             ],
             [
              0.1111111111111111,
              "#46039f"
             ],
             [
              0.2222222222222222,
              "#7201a8"
             ],
             [
              0.3333333333333333,
              "#9c179e"
             ],
             [
              0.4444444444444444,
              "#bd3786"
             ],
             [
              0.5555555555555556,
              "#d8576b"
             ],
             [
              0.6666666666666666,
              "#ed7953"
             ],
             [
              0.7777777777777778,
              "#fb9f3a"
             ],
             [
              0.8888888888888888,
              "#fdca26"
             ],
             [
              1.0,
              "#f0f921"
             ]
            ]
           }
          ],
          "contourcarpet": [
           {
            "type": "contourcarpet",
            "colorbar": {
             "outlinewidth": 0,
             "ticks": ""
            }
           }
          ],
          "contour": [
           {
            "type": "contour",
            "colorbar": {
             "outlinewidth": 0,
             "ticks": ""
            },
            "colorscale": [
             [
              0.0,
              "#0d0887"
             ],
             [
              0.1111111111111111,
              "#46039f"
             ],
             [
              0.2222222222222222,
              "#7201a8"
             ],
             [
              0.3333333333333333,
              "#9c179e"
             ],
             [
              0.4444444444444444,
              "#bd3786"
             ],
             [
              0.5555555555555556,
              "#d8576b"
             ],
             [
              0.6666666666666666,
              "#ed7953"
             ],
             [
              0.7777777777777778,
              "#fb9f3a"
             ],
             [
              0.8888888888888888,
              "#fdca26"
             ],
             [
              1.0,
              "#f0f921"
             ]
            ]
           }
          ],
          "surface": [
           {
            "type": "surface",
            "colorbar": {
             "outlinewidth": 0,
             "ticks": ""
            },
            "colorscale": [
             [
              0.0,
              "#0d0887"
             ],
             [
              0.1111111111111111,
              "#46039f"
             ],
             [
              0.2222222222222222,
              "#7201a8"
             ],
             [
              0.3333333333333333,
              "#9c179e"
             ],
             [
              0.4444444444444444,
              "#bd3786"
             ],
             [
              0.5555555555555556,
              "#d8576b"
             ],
             [
              0.6666666666666666,
              "#ed7953"
             ],
             [
              0.7777777777777778,
              "#fb9f3a"
             ],
             [
              0.8888888888888888,
              "#fdca26"
             ],
             [
              1.0,
              "#f0f921"
             ]
            ]
           }
          ],
          "mesh3d": [
           {
            "type": "mesh3d",
            "colorbar": {
             "outlinewidth": 0,
             "ticks": ""
            }
           }
          ],
          "scatter": [
           {
            "fillpattern": {
             "fillmode": "overlay",
             "size": 10,
             "solidity": 0.2
            },
            "type": "scatter"
           }
          ],
          "parcoords": [
           {
            "type": "parcoords",
            "line": {
             "colorbar": {
              "outlinewidth": 0,
              "ticks": ""
             }
            }
           }
          ],
          "scatterpolargl": [
           {
            "type": "scatterpolargl",
            "marker": {
             "colorbar": {
              "outlinewidth": 0,
              "ticks": ""
             }
            }
           }
          ],
          "bar": [
           {
            "error_x": {
             "color": "#2a3f5f"
            },
            "error_y": {
             "color": "#2a3f5f"
            },
            "marker": {
             "line": {
              "color": "#E5ECF6",
              "width": 0.5
             },
             "pattern": {
              "fillmode": "overlay",
              "size": 10,
              "solidity": 0.2
             }
            },
            "type": "bar"
           }
          ],
          "scattergeo": [
           {
            "type": "scattergeo",
            "marker": {
             "colorbar": {
              "outlinewidth": 0,
              "ticks": ""
             }
            }
           }
          ],
          "scatterpolar": [
           {
            "type": "scatterpolar",
            "marker": {
             "colorbar": {
              "outlinewidth": 0,
              "ticks": ""
             }
            }
           }
          ],
          "histogram": [
           {
            "marker": {
             "pattern": {
              "fillmode": "overlay",
              "size": 10,
              "solidity": 0.2
             }
            },
            "type": "histogram"
           }
          ],
          "scattergl": [
           {
            "type": "scattergl",
            "marker": {
             "colorbar": {
              "outlinewidth": 0,
              "ticks": ""
             }
            }
           }
          ],
          "scatter3d": [
           {
            "type": "scatter3d",
            "line": {
             "colorbar": {
              "outlinewidth": 0,
              "ticks": ""
             }
            },
            "marker": {
             "colorbar": {
              "outlinewidth": 0,
              "ticks": ""
             }
            }
           }
          ],
          "scattermapbox": [
           {
            "type": "scattermapbox",
            "marker": {
             "colorbar": {
              "outlinewidth": 0,
              "ticks": ""
             }
            }
           }
          ],
          "scatterternary": [
           {
            "type": "scatterternary",
            "marker": {
             "colorbar": {
              "outlinewidth": 0,
              "ticks": ""
             }
            }
           }
          ],
          "scattercarpet": [
           {
            "type": "scattercarpet",
            "marker": {
             "colorbar": {
              "outlinewidth": 0,
              "ticks": ""
             }
            }
           }
          ],
          "carpet": [
           {
            "aaxis": {
             "endlinecolor": "#2a3f5f",
             "gridcolor": "white",
             "linecolor": "white",
             "minorgridcolor": "white",
             "startlinecolor": "#2a3f5f"
            },
            "baxis": {
             "endlinecolor": "#2a3f5f",
             "gridcolor": "white",
             "linecolor": "white",
             "minorgridcolor": "white",
             "startlinecolor": "#2a3f5f"
            },
            "type": "carpet"
           }
          ],
          "table": [
           {
            "cells": {
             "fill": {
              "color": "#EBF0F8"
             },
             "line": {
              "color": "white"
             }
            },
            "header": {
             "fill": {
              "color": "#C8D4E3"
             },
             "line": {
              "color": "white"
             }
            },
            "type": "table"
           }
          ],
          "barpolar": [
           {
            "marker": {
             "line": {
              "color": "#E5ECF6",
              "width": 0.5
             },
             "pattern": {
              "fillmode": "overlay",
              "size": 10,
              "solidity": 0.2
             }
            },
            "type": "barpolar"
           }
          ],
          "pie": [
           {
            "automargin": true,
            "type": "pie"
           }
          ]
         },
         "layout": {
          "autotypenumbers": "strict",
          "colorway": [
           "#636efa",
           "#EF553B",
           "#00cc96",
           "#ab63fa",
           "#FFA15A",
           "#19d3f3",
           "#FF6692",
           "#B6E880",
           "#FF97FF",
           "#FECB52"
          ],
          "font": {
           "color": "#2a3f5f"
          },
          "hovermode": "closest",
          "hoverlabel": {
           "align": "left"
          },
          "paper_bgcolor": "white",
          "plot_bgcolor": "#E5ECF6",
          "polar": {
           "bgcolor": "#E5ECF6",
           "angularaxis": {
            "gridcolor": "white",
            "linecolor": "white",
            "ticks": ""
           },
           "radialaxis": {
            "gridcolor": "white",
            "linecolor": "white",
            "ticks": ""
           }
          },
          "ternary": {
           "bgcolor": "#E5ECF6",
           "aaxis": {
            "gridcolor": "white",
            "linecolor": "white",
            "ticks": ""
           },
           "baxis": {
            "gridcolor": "white",
            "linecolor": "white",
            "ticks": ""
           },
           "caxis": {
            "gridcolor": "white",
            "linecolor": "white",
            "ticks": ""
           }
          },
          "coloraxis": {
           "colorbar": {
            "outlinewidth": 0,
            "ticks": ""
           }
          },
          "colorscale": {
           "sequential": [
            [
             0.0,
             "#0d0887"
            ],
            [
             0.1111111111111111,
             "#46039f"
            ],
            [
             0.2222222222222222,
             "#7201a8"
            ],
            [
             0.3333333333333333,
             "#9c179e"
            ],
            [
             0.4444444444444444,
             "#bd3786"
            ],
            [
             0.5555555555555556,
             "#d8576b"
            ],
            [
             0.6666666666666666,
             "#ed7953"
            ],
            [
             0.7777777777777778,
             "#fb9f3a"
            ],
            [
             0.8888888888888888,
             "#fdca26"
            ],
            [
             1.0,
             "#f0f921"
            ]
           ],
           "sequentialminus": [
            [
             0.0,
             "#0d0887"
            ],
            [
             0.1111111111111111,
             "#46039f"
            ],
            [
             0.2222222222222222,
             "#7201a8"
            ],
            [
             0.3333333333333333,
             "#9c179e"
            ],
            [
             0.4444444444444444,
             "#bd3786"
            ],
            [
             0.5555555555555556,
             "#d8576b"
            ],
            [
             0.6666666666666666,
             "#ed7953"
            ],
            [
             0.7777777777777778,
             "#fb9f3a"
            ],
            [
             0.8888888888888888,
             "#fdca26"
            ],
            [
             1.0,
             "#f0f921"
            ]
           ],
           "diverging": [
            [
             0,
             "#8e0152"
            ],
            [
             0.1,
             "#c51b7d"
            ],
            [
             0.2,
             "#de77ae"
            ],
            [
             0.3,
             "#f1b6da"
            ],
            [
             0.4,
             "#fde0ef"
            ],
            [
             0.5,
             "#f7f7f7"
            ],
            [
             0.6,
             "#e6f5d0"
            ],
            [
             0.7,
             "#b8e186"
            ],
            [
             0.8,
             "#7fbc41"
            ],
            [
             0.9,
             "#4d9221"
            ],
            [
             1,
             "#276419"
            ]
           ]
          },
          "xaxis": {
           "gridcolor": "white",
           "linecolor": "white",
           "ticks": "",
           "title": {
            "standoff": 15
           },
           "zerolinecolor": "white",
           "automargin": true,
           "zerolinewidth": 2
          },
          "yaxis": {
           "gridcolor": "white",
           "linecolor": "white",
           "ticks": "",
           "title": {
            "standoff": 15
           },
           "zerolinecolor": "white",
           "automargin": true,
           "zerolinewidth": 2
          },
          "scene": {
           "xaxis": {
            "backgroundcolor": "#E5ECF6",
            "gridcolor": "white",
            "linecolor": "white",
            "showbackground": true,
            "ticks": "",
            "zerolinecolor": "white",
            "gridwidth": 2
           },
           "yaxis": {
            "backgroundcolor": "#E5ECF6",
            "gridcolor": "white",
            "linecolor": "white",
            "showbackground": true,
            "ticks": "",
            "zerolinecolor": "white",
            "gridwidth": 2
           },
           "zaxis": {
            "backgroundcolor": "#E5ECF6",
            "gridcolor": "white",
            "linecolor": "white",
            "showbackground": true,
            "ticks": "",
            "zerolinecolor": "white",
            "gridwidth": 2
           }
          },
          "shapedefaults": {
           "line": {
            "color": "#2a3f5f"
           }
          },
          "annotationdefaults": {
           "arrowcolor": "#2a3f5f",
           "arrowhead": 0,
           "arrowwidth": 1
          },
          "geo": {
           "bgcolor": "white",
           "landcolor": "#E5ECF6",
           "subunitcolor": "white",
           "showland": true,
           "showlakes": true,
           "lakecolor": "white"
          },
          "title": {
           "x": 0.05
          },
          "mapbox": {
           "style": "light"
          }
         }
        },
        "xaxis": {
         "anchor": "y",
         "domain": [
          0.0,
          1.0
         ],
         "title": {
          "text": "Service"
         },
         "tickangle": -45
        },
        "yaxis": {
         "anchor": "x",
         "domain": [
          0.0,
          1.0
         ],
         "title": {
          "text": "Count of ranking"
         }
        },
        "legend": {
         "title": {
          "text": "Ranking (1=least, 7=most)"
         },
         "tracegroupgap": 0
        },
        "margin": {
         "t": 60
        },
        "barmode": "group",
        "height": 600
       },
       "config": {
        "plotlyServerURL": "https://plot.ly"
       }
      },
      "text/html": [
       "<div>                            <div id=\"7063eea9-caae-4f68-935e-283f63e7b1cc\" class=\"plotly-graph-div\" style=\"height:600px; width:100%;\"></div>            <script type=\"text/javascript\">                require([\"plotly\"], function(Plotly) {                    window.PLOTLYENV=window.PLOTLYENV || {};                                    if (document.getElementById(\"7063eea9-caae-4f68-935e-283f63e7b1cc\")) {                    Plotly.newPlot(                        \"7063eea9-caae-4f68-935e-283f63e7b1cc\",                        [{\"alignmentgroup\":\"True\",\"hovertemplate\":\"Ranking (1=least, 7=most)=1\\u003cbr\\u003eService=%{x}\\u003cbr\\u003eCount of ranking=%{y}\\u003cextra\\u003e\\u003c\\u002fextra\\u003e\",\"legendgroup\":\"1\",\"marker\":{\"color\":\"#636efa\",\"pattern\":{\"shape\":\"\"}},\"name\":\"1\",\"offsetgroup\":\"1\",\"orientation\":\"v\",\"showlegend\":true,\"textposition\":\"auto\",\"x\":[\"Roads, footpaths, and cycle\\u003cbr\\u003eways.\",\"Rubbish and recycling\\u003cbr\\u003eservices.\",\"Building and planning.\",\"Outdoor spaces, such as parks.\",\"Public facilities, such as\\u003cbr\\u003ecommunity centres.\",\"Drinking water, wastewater,\\u003cbr\\u003eand stormwater services.\",\"Business licensing and\\u003cbr\\u003ecompliance.\",\"Community services, such as\\u003cbr\\u003eevents.\"],\"xaxis\":\"x\",\"y\":[71,18,27,10,12,43,8,19],\"yaxis\":\"y\",\"type\":\"bar\"},{\"alignmentgroup\":\"True\",\"hovertemplate\":\"Ranking (1=least, 7=most)=2\\u003cbr\\u003eService=%{x}\\u003cbr\\u003eCount of ranking=%{y}\\u003cextra\\u003e\\u003c\\u002fextra\\u003e\",\"legendgroup\":\"2\",\"marker\":{\"color\":\"#EF553B\",\"pattern\":{\"shape\":\"\"}},\"name\":\"2\",\"offsetgroup\":\"2\",\"orientation\":\"v\",\"showlegend\":true,\"textposition\":\"auto\",\"x\":[\"Roads, footpaths, and cycle\\u003cbr\\u003eways.\",\"Rubbish and recycling\\u003cbr\\u003eservices.\",\"Building and planning.\",\"Outdoor spaces, such as parks.\",\"Public facilities, such as\\u003cbr\\u003ecommunity centres.\",\"Drinking water, wastewater,\\u003cbr\\u003eand stormwater services.\",\"Business licensing and\\u003cbr\\u003ecompliance.\",\"Community services, such as\\u003cbr\\u003eevents.\"],\"xaxis\":\"x\",\"y\":[35,38,28,22,26,35,11,18],\"yaxis\":\"y\",\"type\":\"bar\"},{\"alignmentgroup\":\"True\",\"hovertemplate\":\"Ranking (1=least, 7=most)=3\\u003cbr\\u003eService=%{x}\\u003cbr\\u003eCount of ranking=%{y}\\u003cextra\\u003e\\u003c\\u002fextra\\u003e\",\"legendgroup\":\"3\",\"marker\":{\"color\":\"#00cc96\",\"pattern\":{\"shape\":\"\"}},\"name\":\"3\",\"offsetgroup\":\"3\",\"orientation\":\"v\",\"showlegend\":true,\"textposition\":\"auto\",\"x\":[\"Roads, footpaths, and cycle\\u003cbr\\u003eways.\",\"Rubbish and recycling\\u003cbr\\u003eservices.\",\"Building and planning.\",\"Outdoor spaces, such as parks.\",\"Public facilities, such as\\u003cbr\\u003ecommunity centres.\",\"Drinking water, wastewater,\\u003cbr\\u003eand stormwater services.\",\"Business licensing and\\u003cbr\\u003ecompliance.\",\"Community services, such as\\u003cbr\\u003eevents.\"],\"xaxis\":\"x\",\"y\":[28,33,33,29,31,26,16,19],\"yaxis\":\"y\",\"type\":\"bar\"},{\"alignmentgroup\":\"True\",\"hovertemplate\":\"Ranking (1=least, 7=most)=4\\u003cbr\\u003eService=%{x}\\u003cbr\\u003eCount of ranking=%{y}\\u003cextra\\u003e\\u003c\\u002fextra\\u003e\",\"legendgroup\":\"4\",\"marker\":{\"color\":\"#ab63fa\",\"pattern\":{\"shape\":\"\"}},\"name\":\"4\",\"offsetgroup\":\"4\",\"orientation\":\"v\",\"showlegend\":true,\"textposition\":\"auto\",\"x\":[\"Roads, footpaths, and cycle\\u003cbr\\u003eways.\",\"Rubbish and recycling\\u003cbr\\u003eservices.\",\"Building and planning.\",\"Outdoor spaces, such as parks.\",\"Public facilities, such as\\u003cbr\\u003ecommunity centres.\",\"Drinking water, wastewater,\\u003cbr\\u003eand stormwater services.\",\"Business licensing and\\u003cbr\\u003ecompliance.\",\"Community services, such as\\u003cbr\\u003eevents.\"],\"xaxis\":\"x\",\"y\":[23,33,29,22,29,35,23,24],\"yaxis\":\"y\",\"type\":\"bar\"},{\"alignmentgroup\":\"True\",\"hovertemplate\":\"Ranking (1=least, 7=most)=5\\u003cbr\\u003eService=%{x}\\u003cbr\\u003eCount of ranking=%{y}\\u003cextra\\u003e\\u003c\\u002fextra\\u003e\",\"legendgroup\":\"5\",\"marker\":{\"color\":\"#FFA15A\",\"pattern\":{\"shape\":\"\"}},\"name\":\"5\",\"offsetgroup\":\"5\",\"orientation\":\"v\",\"showlegend\":true,\"textposition\":\"auto\",\"x\":[\"Roads, footpaths, and cycle\\u003cbr\\u003eways.\",\"Rubbish and recycling\\u003cbr\\u003eservices.\",\"Building and planning.\",\"Outdoor spaces, such as parks.\",\"Public facilities, such as\\u003cbr\\u003ecommunity centres.\",\"Drinking water, wastewater,\\u003cbr\\u003eand stormwater services.\",\"Business licensing and\\u003cbr\\u003ecompliance.\",\"Community services, such as\\u003cbr\\u003eevents.\"],\"xaxis\":\"x\",\"y\":[20,35,21,35,38,35,14,18],\"yaxis\":\"y\",\"type\":\"bar\"},{\"alignmentgroup\":\"True\",\"hovertemplate\":\"Ranking (1=least, 7=most)=6\\u003cbr\\u003eService=%{x}\\u003cbr\\u003eCount of ranking=%{y}\\u003cextra\\u003e\\u003c\\u002fextra\\u003e\",\"legendgroup\":\"6\",\"marker\":{\"color\":\"#19d3f3\",\"pattern\":{\"shape\":\"\"}},\"name\":\"6\",\"offsetgroup\":\"6\",\"orientation\":\"v\",\"showlegend\":true,\"textposition\":\"auto\",\"x\":[\"Roads, footpaths, and cycle\\u003cbr\\u003eways.\",\"Rubbish and recycling\\u003cbr\\u003eservices.\",\"Building and planning.\",\"Outdoor spaces, such as parks.\",\"Public facilities, such as\\u003cbr\\u003ecommunity centres.\",\"Drinking water, wastewater,\\u003cbr\\u003eand stormwater services.\",\"Business licensing and\\u003cbr\\u003ecompliance.\",\"Community services, such as\\u003cbr\\u003eevents.\"],\"xaxis\":\"x\",\"y\":[20,30,23,31,45,14,25,28],\"yaxis\":\"y\",\"type\":\"bar\"},{\"alignmentgroup\":\"True\",\"hovertemplate\":\"Ranking (1=least, 7=most)=7\\u003cbr\\u003eService=%{x}\\u003cbr\\u003eCount of ranking=%{y}\\u003cextra\\u003e\\u003c\\u002fextra\\u003e\",\"legendgroup\":\"7\",\"marker\":{\"color\":\"#FF6692\",\"pattern\":{\"shape\":\"\"}},\"name\":\"7\",\"offsetgroup\":\"7\",\"orientation\":\"v\",\"showlegend\":true,\"textposition\":\"auto\",\"x\":[\"Roads, footpaths, and cycle\\u003cbr\\u003eways.\",\"Rubbish and recycling\\u003cbr\\u003eservices.\",\"Building and planning.\",\"Outdoor spaces, such as parks.\",\"Public facilities, such as\\u003cbr\\u003ecommunity centres.\",\"Drinking water, wastewater,\\u003cbr\\u003eand stormwater services.\",\"Business licensing and\\u003cbr\\u003ecompliance.\",\"Community services, such as\\u003cbr\\u003eevents.\"],\"xaxis\":\"x\",\"y\":[6,17,38,38,29,16,42,32],\"yaxis\":\"y\",\"type\":\"bar\"}],                        {\"template\":{\"data\":{\"histogram2dcontour\":[{\"type\":\"histogram2dcontour\",\"colorbar\":{\"outlinewidth\":0,\"ticks\":\"\"},\"colorscale\":[[0.0,\"#0d0887\"],[0.1111111111111111,\"#46039f\"],[0.2222222222222222,\"#7201a8\"],[0.3333333333333333,\"#9c179e\"],[0.4444444444444444,\"#bd3786\"],[0.5555555555555556,\"#d8576b\"],[0.6666666666666666,\"#ed7953\"],[0.7777777777777778,\"#fb9f3a\"],[0.8888888888888888,\"#fdca26\"],[1.0,\"#f0f921\"]]}],\"choropleth\":[{\"type\":\"choropleth\",\"colorbar\":{\"outlinewidth\":0,\"ticks\":\"\"}}],\"histogram2d\":[{\"type\":\"histogram2d\",\"colorbar\":{\"outlinewidth\":0,\"ticks\":\"\"},\"colorscale\":[[0.0,\"#0d0887\"],[0.1111111111111111,\"#46039f\"],[0.2222222222222222,\"#7201a8\"],[0.3333333333333333,\"#9c179e\"],[0.4444444444444444,\"#bd3786\"],[0.5555555555555556,\"#d8576b\"],[0.6666666666666666,\"#ed7953\"],[0.7777777777777778,\"#fb9f3a\"],[0.8888888888888888,\"#fdca26\"],[1.0,\"#f0f921\"]]}],\"heatmap\":[{\"type\":\"heatmap\",\"colorbar\":{\"outlinewidth\":0,\"ticks\":\"\"},\"colorscale\":[[0.0,\"#0d0887\"],[0.1111111111111111,\"#46039f\"],[0.2222222222222222,\"#7201a8\"],[0.3333333333333333,\"#9c179e\"],[0.4444444444444444,\"#bd3786\"],[0.5555555555555556,\"#d8576b\"],[0.6666666666666666,\"#ed7953\"],[0.7777777777777778,\"#fb9f3a\"],[0.8888888888888888,\"#fdca26\"],[1.0,\"#f0f921\"]]}],\"heatmapgl\":[{\"type\":\"heatmapgl\",\"colorbar\":{\"outlinewidth\":0,\"ticks\":\"\"},\"colorscale\":[[0.0,\"#0d0887\"],[0.1111111111111111,\"#46039f\"],[0.2222222222222222,\"#7201a8\"],[0.3333333333333333,\"#9c179e\"],[0.4444444444444444,\"#bd3786\"],[0.5555555555555556,\"#d8576b\"],[0.6666666666666666,\"#ed7953\"],[0.7777777777777778,\"#fb9f3a\"],[0.8888888888888888,\"#fdca26\"],[1.0,\"#f0f921\"]]}],\"contourcarpet\":[{\"type\":\"contourcarpet\",\"colorbar\":{\"outlinewidth\":0,\"ticks\":\"\"}}],\"contour\":[{\"type\":\"contour\",\"colorbar\":{\"outlinewidth\":0,\"ticks\":\"\"},\"colorscale\":[[0.0,\"#0d0887\"],[0.1111111111111111,\"#46039f\"],[0.2222222222222222,\"#7201a8\"],[0.3333333333333333,\"#9c179e\"],[0.4444444444444444,\"#bd3786\"],[0.5555555555555556,\"#d8576b\"],[0.6666666666666666,\"#ed7953\"],[0.7777777777777778,\"#fb9f3a\"],[0.8888888888888888,\"#fdca26\"],[1.0,\"#f0f921\"]]}],\"surface\":[{\"type\":\"surface\",\"colorbar\":{\"outlinewidth\":0,\"ticks\":\"\"},\"colorscale\":[[0.0,\"#0d0887\"],[0.1111111111111111,\"#46039f\"],[0.2222222222222222,\"#7201a8\"],[0.3333333333333333,\"#9c179e\"],[0.4444444444444444,\"#bd3786\"],[0.5555555555555556,\"#d8576b\"],[0.6666666666666666,\"#ed7953\"],[0.7777777777777778,\"#fb9f3a\"],[0.8888888888888888,\"#fdca26\"],[1.0,\"#f0f921\"]]}],\"mesh3d\":[{\"type\":\"mesh3d\",\"colorbar\":{\"outlinewidth\":0,\"ticks\":\"\"}}],\"scatter\":[{\"fillpattern\":{\"fillmode\":\"overlay\",\"size\":10,\"solidity\":0.2},\"type\":\"scatter\"}],\"parcoords\":[{\"type\":\"parcoords\",\"line\":{\"colorbar\":{\"outlinewidth\":0,\"ticks\":\"\"}}}],\"scatterpolargl\":[{\"type\":\"scatterpolargl\",\"marker\":{\"colorbar\":{\"outlinewidth\":0,\"ticks\":\"\"}}}],\"bar\":[{\"error_x\":{\"color\":\"#2a3f5f\"},\"error_y\":{\"color\":\"#2a3f5f\"},\"marker\":{\"line\":{\"color\":\"#E5ECF6\",\"width\":0.5},\"pattern\":{\"fillmode\":\"overlay\",\"size\":10,\"solidity\":0.2}},\"type\":\"bar\"}],\"scattergeo\":[{\"type\":\"scattergeo\",\"marker\":{\"colorbar\":{\"outlinewidth\":0,\"ticks\":\"\"}}}],\"scatterpolar\":[{\"type\":\"scatterpolar\",\"marker\":{\"colorbar\":{\"outlinewidth\":0,\"ticks\":\"\"}}}],\"histogram\":[{\"marker\":{\"pattern\":{\"fillmode\":\"overlay\",\"size\":10,\"solidity\":0.2}},\"type\":\"histogram\"}],\"scattergl\":[{\"type\":\"scattergl\",\"marker\":{\"colorbar\":{\"outlinewidth\":0,\"ticks\":\"\"}}}],\"scatter3d\":[{\"type\":\"scatter3d\",\"line\":{\"colorbar\":{\"outlinewidth\":0,\"ticks\":\"\"}},\"marker\":{\"colorbar\":{\"outlinewidth\":0,\"ticks\":\"\"}}}],\"scattermapbox\":[{\"type\":\"scattermapbox\",\"marker\":{\"colorbar\":{\"outlinewidth\":0,\"ticks\":\"\"}}}],\"scatterternary\":[{\"type\":\"scatterternary\",\"marker\":{\"colorbar\":{\"outlinewidth\":0,\"ticks\":\"\"}}}],\"scattercarpet\":[{\"type\":\"scattercarpet\",\"marker\":{\"colorbar\":{\"outlinewidth\":0,\"ticks\":\"\"}}}],\"carpet\":[{\"aaxis\":{\"endlinecolor\":\"#2a3f5f\",\"gridcolor\":\"white\",\"linecolor\":\"white\",\"minorgridcolor\":\"white\",\"startlinecolor\":\"#2a3f5f\"},\"baxis\":{\"endlinecolor\":\"#2a3f5f\",\"gridcolor\":\"white\",\"linecolor\":\"white\",\"minorgridcolor\":\"white\",\"startlinecolor\":\"#2a3f5f\"},\"type\":\"carpet\"}],\"table\":[{\"cells\":{\"fill\":{\"color\":\"#EBF0F8\"},\"line\":{\"color\":\"white\"}},\"header\":{\"fill\":{\"color\":\"#C8D4E3\"},\"line\":{\"color\":\"white\"}},\"type\":\"table\"}],\"barpolar\":[{\"marker\":{\"line\":{\"color\":\"#E5ECF6\",\"width\":0.5},\"pattern\":{\"fillmode\":\"overlay\",\"size\":10,\"solidity\":0.2}},\"type\":\"barpolar\"}],\"pie\":[{\"automargin\":true,\"type\":\"pie\"}]},\"layout\":{\"autotypenumbers\":\"strict\",\"colorway\":[\"#636efa\",\"#EF553B\",\"#00cc96\",\"#ab63fa\",\"#FFA15A\",\"#19d3f3\",\"#FF6692\",\"#B6E880\",\"#FF97FF\",\"#FECB52\"],\"font\":{\"color\":\"#2a3f5f\"},\"hovermode\":\"closest\",\"hoverlabel\":{\"align\":\"left\"},\"paper_bgcolor\":\"white\",\"plot_bgcolor\":\"#E5ECF6\",\"polar\":{\"bgcolor\":\"#E5ECF6\",\"angularaxis\":{\"gridcolor\":\"white\",\"linecolor\":\"white\",\"ticks\":\"\"},\"radialaxis\":{\"gridcolor\":\"white\",\"linecolor\":\"white\",\"ticks\":\"\"}},\"ternary\":{\"bgcolor\":\"#E5ECF6\",\"aaxis\":{\"gridcolor\":\"white\",\"linecolor\":\"white\",\"ticks\":\"\"},\"baxis\":{\"gridcolor\":\"white\",\"linecolor\":\"white\",\"ticks\":\"\"},\"caxis\":{\"gridcolor\":\"white\",\"linecolor\":\"white\",\"ticks\":\"\"}},\"coloraxis\":{\"colorbar\":{\"outlinewidth\":0,\"ticks\":\"\"}},\"colorscale\":{\"sequential\":[[0.0,\"#0d0887\"],[0.1111111111111111,\"#46039f\"],[0.2222222222222222,\"#7201a8\"],[0.3333333333333333,\"#9c179e\"],[0.4444444444444444,\"#bd3786\"],[0.5555555555555556,\"#d8576b\"],[0.6666666666666666,\"#ed7953\"],[0.7777777777777778,\"#fb9f3a\"],[0.8888888888888888,\"#fdca26\"],[1.0,\"#f0f921\"]],\"sequentialminus\":[[0.0,\"#0d0887\"],[0.1111111111111111,\"#46039f\"],[0.2222222222222222,\"#7201a8\"],[0.3333333333333333,\"#9c179e\"],[0.4444444444444444,\"#bd3786\"],[0.5555555555555556,\"#d8576b\"],[0.6666666666666666,\"#ed7953\"],[0.7777777777777778,\"#fb9f3a\"],[0.8888888888888888,\"#fdca26\"],[1.0,\"#f0f921\"]],\"diverging\":[[0,\"#8e0152\"],[0.1,\"#c51b7d\"],[0.2,\"#de77ae\"],[0.3,\"#f1b6da\"],[0.4,\"#fde0ef\"],[0.5,\"#f7f7f7\"],[0.6,\"#e6f5d0\"],[0.7,\"#b8e186\"],[0.8,\"#7fbc41\"],[0.9,\"#4d9221\"],[1,\"#276419\"]]},\"xaxis\":{\"gridcolor\":\"white\",\"linecolor\":\"white\",\"ticks\":\"\",\"title\":{\"standoff\":15},\"zerolinecolor\":\"white\",\"automargin\":true,\"zerolinewidth\":2},\"yaxis\":{\"gridcolor\":\"white\",\"linecolor\":\"white\",\"ticks\":\"\",\"title\":{\"standoff\":15},\"zerolinecolor\":\"white\",\"automargin\":true,\"zerolinewidth\":2},\"scene\":{\"xaxis\":{\"backgroundcolor\":\"#E5ECF6\",\"gridcolor\":\"white\",\"linecolor\":\"white\",\"showbackground\":true,\"ticks\":\"\",\"zerolinecolor\":\"white\",\"gridwidth\":2},\"yaxis\":{\"backgroundcolor\":\"#E5ECF6\",\"gridcolor\":\"white\",\"linecolor\":\"white\",\"showbackground\":true,\"ticks\":\"\",\"zerolinecolor\":\"white\",\"gridwidth\":2},\"zaxis\":{\"backgroundcolor\":\"#E5ECF6\",\"gridcolor\":\"white\",\"linecolor\":\"white\",\"showbackground\":true,\"ticks\":\"\",\"zerolinecolor\":\"white\",\"gridwidth\":2}},\"shapedefaults\":{\"line\":{\"color\":\"#2a3f5f\"}},\"annotationdefaults\":{\"arrowcolor\":\"#2a3f5f\",\"arrowhead\":0,\"arrowwidth\":1},\"geo\":{\"bgcolor\":\"white\",\"landcolor\":\"#E5ECF6\",\"subunitcolor\":\"white\",\"showland\":true,\"showlakes\":true,\"lakecolor\":\"white\"},\"title\":{\"x\":0.05},\"mapbox\":{\"style\":\"light\"}}},\"xaxis\":{\"anchor\":\"y\",\"domain\":[0.0,1.0],\"title\":{\"text\":\"Service\"},\"tickangle\":-45},\"yaxis\":{\"anchor\":\"x\",\"domain\":[0.0,1.0],\"title\":{\"text\":\"Count of ranking\"}},\"legend\":{\"title\":{\"text\":\"Ranking (1=least, 7=most)\"},\"tracegroupgap\":0},\"margin\":{\"t\":60},\"barmode\":\"group\",\"height\":600},                        {\"responsive\": true}                    ).then(function(){\n",
       "                            \n",
       "var gd = document.getElementById('7063eea9-caae-4f68-935e-283f63e7b1cc');\n",
       "var x = new MutationObserver(function (mutations, observer) {{\n",
       "        var display = window.getComputedStyle(gd).display;\n",
       "        if (!display || display === 'none') {{\n",
       "            console.log([gd, 'removed!']);\n",
       "            Plotly.purge(gd);\n",
       "            observer.disconnect();\n",
       "        }}\n",
       "}});\n",
       "\n",
       "// Listen for the removal of the full notebook cells\n",
       "var notebookContainer = gd.closest('#notebook-container');\n",
       "if (notebookContainer) {{\n",
       "    x.observe(notebookContainer, {childList: true});\n",
       "}}\n",
       "\n",
       "// Listen for the clearing of the current output cell\n",
       "var outputEl = gd.closest('.output');\n",
       "if (outputEl) {{\n",
       "    x.observe(outputEl, {childList: true});\n",
       "}}\n",
       "\n",
       "                        })                };                });            </script>        </div>"
      ]
     },
     "metadata": {},
     "output_type": "display_data"
    }
   ],
   "execution_count": 38
  }
 ],
 "metadata": {
  "kernelspec": {
   "display_name": "Python 3",
   "language": "python",
   "name": "python3"
  },
  "language_info": {
   "codemirror_mode": {
    "name": "ipython",
    "version": 2
   },
   "file_extension": ".py",
   "mimetype": "text/x-python",
   "name": "python",
   "nbconvert_exporter": "python",
   "pygments_lexer": "ipython2",
   "version": "2.7.6"
  }
 },
 "nbformat": 4,
 "nbformat_minor": 5
}
