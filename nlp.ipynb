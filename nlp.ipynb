{
 "cells": [
  {
   "cell_type": "code",
   "id": "initial_id",
   "metadata": {
    "collapsed": true,
    "ExecuteTime": {
     "end_time": "2024-12-11T08:09:18.093037Z",
     "start_time": "2024-12-11T08:09:16.806485Z"
    }
   },
   "source": [
    "import spacy\n",
    "import pandas as pd\n",
    "\n",
    "# Load spaCy's English tokenizer\n",
    "nlp = spacy.load(\"en_core_web_sm\")\n",
    "\n",
    "# Get spaCy's list of stopwords\n",
    "stop_words = nlp.Defaults.stop_words\n",
    "\n",
    "def preprocess_text(text):\n",
    "    # Convert to lowercase and remove punctuation\n",
    "    doc = nlp(text.lower())\n",
    "    cleaned_text = \" \".join([token.text for token in doc if token.text not in stop_words and not token.is_punct])\n",
    "    return cleaned_text\n",
    "\n",
    "# Create a DataFrame\n",
    "df = pd.read_csv('data/all-responses.csv')\n",
    "\n",
    "# Drop NaN values first\n",
    "df_cleaned = df.dropna(subset=['Q23 - Do you have any ideas for new technology or examples you\\'ve seen from other...'])\n",
    "\n",
    "# Apply preprocessing to the cleaned column #.apply(preprocess_text)\n",
    "df_cleaned['cleaned_response'] = df_cleaned['Q23 - Do you have any ideas for new technology or examples you\\'ve seen from other...'].apply(preprocess_text)\n",
    "\n",
    "# Convert the column to a list and ensure all entries are strings\n",
    "cleaned_responses_list = df_cleaned['cleaned_response'].tolist()"
   ],
   "outputs": [
    {
     "name": "stdout",
     "output_type": "stream",
     "text": [
      "['digital maps advanced bus stop notifications chch bus interchange screens voice advising bus stops passing new area swim safety', '', 'interesting people walk mount daily maybe sign counter weather temp', 'rooftop electricity generation street lighting think operating public transport', 'smart roads capture energy vehicles sun heat use power lights signs capture data similar uses', 'quicker response cameras correct traffic congestion real time monitoring', '', 'seen great tech displays museums small towns tauranga', 'study movement trains introduce suburban katikati bayfair pomona', 'outdoor solar powered touchscreens allow visitors find vital date info different languages bop 24/7 stay \\n ar vr step time pop experience immerses audiences interactive panoramas soundscapes region ages starting maori settlement include aerial landscapes showing land looked like time', 'lucky travel lot ideas suggestions city \\n\\n -tauranga red light running problem tcc maybe university create innovative portable red light camera place place like speed camera van tcc apply nzta necessary permissions think mobile effective fixed pole element surprise \\n\\n -we traffic light intersections smarter buses stuck traffic bus arriving traffic lights change bus come complete stop buses gps easy \\n\\n need physical library card library promoting digital copy barcode saved phone better library card add wallet iphone android tap phone young people carry cards anymore gone digital promote spontaneous library visits \\n\\n ways recycle e waste batteries implement drop locations libraries \\n\\n -along fifteenth ave bridge water bus lane smart traffic light narrow bridge cars stop momentarily lane let bus merge operate rush hour buses wait traffic cheap install need upgrade 3 lane bridge need encourage people cars promote lanes induce increase demand worsen congestion \\n\\n hamilton council excellent mobile app called antenno residents easily report problems dumped rubbish broken streetlights grafitti etc etc simple app phone excellent walk past problem pull app photo automatically grabs photo gps location easy report issue centre saves time money \\n\\n -we install air pollution monitoring devices monitor air quality publish data live online good locations monitor industrial area mount near ports cameron rd great website iqair.com data nz cities world \\n\\n -in wellington recycling wheelie bins rubber clip hold lid windy conditions coastal suburbs help prevent rubbish recycling blowing bins streets residents choose clip lid windy clip type technology mentioning \\n\\n -hamilton going install smart water meters send readings remotely council long life lithium battery new houses developments tcc installing smart water meters eventually old ones replaced reach end life means water meter reader people wo deal dangerous uv radiation dogs breathing traffic pollution day \\n\\n -in nsw council recyclable container return scheme reverse vending machine takes counts plastic bottles cans gives voucher refund people incentivised pick recycling blowing street recycle money tcc start working reads barcodes decide items accepts eg aluminium cans pet bottles \\n\\n -in vancouver tokyo pedestrians cross traffic lights instead loud bip bip bip bip sound makes peaceful sound bird chirping nicer promote peace wellbeing reduce aggression cbd night time https://www.youtube.com/shorts/omhd0qg5cwg \\n\\n -in christchuch electronic signs count display cyclists cycleway day increases visibility actually lot people use cycle paths data helps inform future decisions https://cyclingchristchurch.co.nz/2024/03/17/chch-cycle-counter-update-mar-2024-the-only-way-is-up/ \\n\\n melbourne tag tap public transport phone seoul 2009 15 year old technology lets wait 2 3 years nz cities hard update software bee card readers work existing nfc phones yes likely bop responsibility tcc work bop bit try encourage uptake technology public transport regional thing actually city council thing public transport brought arm tcc big change know sense people catch commuter buses small town \\n\\n amsterdam large rubbish recycling bins actually cube like rubbish skip ground truck comes lift way bins need emptied frequently rubbish thing looks like bin actually chute probably good idea plan high density housing goes instead heaps wheelie bins block footpath \\n\\n ban ugly electronic led billboards distracting dangerous drivers bright ugly probably terrible night insects live near need sure insects die die example bad harmful technology \\n\\n renter difficult find rental property charge ev home landlords lot costs funds install offering small grant landlords $ 1000 help install ev charger maybe rebate paid discount rates 2 years proving property rented period remove big barrier renters want switch ice car ev improving air quality reducing expensive car maintenance costs future benefit residents \\n\\n -in bangkok led countdown timers traffic lights major intersections car drivers reduces people running redlight soon light goes red wait 60s counting 0 light goes green calms drivers pleasant waiting unknown time believe contributor red light running \\n\\n dangerous problem crossing street 4 way traffic light right hand road walking straight ahead green pedestrian light tells cross time half way road traffic allowed come turning left path red arrow turned finished crossing happens idea pressed cross button right street left turn red light stay twice long sure finished crossing allowed proceed cars try drive dangerously close note problem happen crossing left road walking straight ahead time red arrow turns cars wanting cross path wanting urn left danger safely far crossing reason safer walk left road dangerous walk particular street currently design street system maximum safety based assuming driver sees pedestrian easy technological solution daily dangerous situation yes cars supposed way sure likely stay stopped red light', '', 'interactive playground center console wich connects buzzers games pfronten germany', 'bus depot central christchurch amazed saw covered safe location digital time boards pleased tauranga time boards tell bus coming \\n maybe security cameras know', 'smart pedestrian cycle crossings able detect approaching cyclists pedestrians change green prioritise encourage cyclings walking \\n\\n traffic lights turn green buses approach', '', 'parking enforcement queenstown', 'monitoring environmental impact \\n\\n weight bins \\n water usage \\n', 'need senior training programs', 'different method control roadworks cones', '', 'interactive interpretive signage historical sites', 'auckland bus stops upcoming buses route number estimated arrival time minutes   technology tauranga bus stops', 'crossing timing lights crossings \\n', 'stop wasting taxpayer money screens wifi nonsense art practical', 'creating roadways city centers open space wider footpaths allow light corridors whilst maintaining dual traffic carriage ways', 'council provided webcams weather monitoring sea conditions high definition multiple options', 'traffic lights count red orange green orange red', 'areas free wifi', 'events occurring mount facilities local residences local rates reduce app showing cost benefit local rate payers', 'fleet tracking technology', 'smaller buses provide demand service', 'use ai forms improve staff performance', ' ', 'talking rubbish bins eg children play areas \\n traffic delay signs road intersections \\n museum exhibits talk explain things actual museum   shame tauranga eg opotiki whakatane katikati better', 'outdoor screens movies documentaries info places etc cool \\n wi fi accessibility public spaces makes sense \\n smaller screens nearby playgrounds and/or kids play areas interactive games \\n interactive digital sports wall promotes physical activity young people families e.g. https://multi-ball.com/?https://multi-ball.com/pages/thank_you&utm_term=interactive%20sports%20wall&utm_campaign=mb_search_main-global&campaignid=21174303748&utm_source=adwords&utm_medium=ppc&hsa_acc=1413865182&hsa_cam=21174303748&hsa_grp=160691751733&hsa_ad=696145049216&hsa_src=g&hsa_tgt=kwd-979231044700&hsa_kw=interactive%20sports%20wall&hsa_mt=e&hsa_net=adwords&hsa_ver=3&gad_source=1&gclid=cj0kcqia6ou5bhcrarisapotxrd2uvdcoe_kvsurcoekezmvafesndnumtmvyongu-f3sjy0rqbli5oaahteealw_wcb', 'dimming street lights', 'fresh good quality public water fountains', 'late night city bus friday saturday nights live updates screens', 'maybe plant trees', '', 'passenger rail cbd pāpāmoa mount', 'street clocks', '', 'reducing crime', 'advertising boards showcase art rotations \\n lighting technology a. beautify areas b. ensure safe spaces hours walking', 'core business council water sewerage basics', '', 'queenstown enforces parking cctv \\n mobility parking fine $ 750 worth enforce', 'parking public transport type apps auckland great bop', 'real time uv information public places skin cancer awareness prevention seen overseas small screens tell uv rating preventative measures immediately run solar invigorated information signage location venue eg boat ramps marine parade walkway etc uv app phone', 'digital event boards areas events held   ie connected s website automatically sends events boards area event held', 'live traffic updates ie warning congestion', '', 'electric city tram tga matapihi papamoa mount tga', 'maybe safety based technology eg linking police certain areas nt phone emergency services possibly interactive maps', 'new plymouth individual parking sensors warden knew unpaid overtime parkers', 'like use free public wifi bit difficult know password   tried bothered', 'minutes away buses stop \\n billboards displaying upcoming events \\n traffic congestion eased smart tech monitoring build adjusting traffic lights accordingly', 'antenno mobile app let community know local projects events etc road closures outages etc', 'times buses long place place', 'smart recycling people paid cents depositing recyclable bottles \\n pay apps phones ride public transport works country separate card \\n open source scientific data city collects water streams environment etc', '', 'extinguish debt', 'water temperature display waterfront \\n interactive street maps help location \\n', 'digital signage buses bus stops eta interactive screens    like new extra smart bins public use', 'signage showing traffic times main routes thigh traffic times real times', 'security cameras residential streets prevent crime traffic offences', '', 'lights spaces carparks available taken disability charging', 'public transport uses digital cards credit   bbc connected phone seen city uses public transport world apart nz toll roads use e tags car different rates different days distances seen europe states canada', '', 'provision shuttle services parking centres places work', 'bus lanes available vehicles 2 passengers bus carrying', 'na', '', 'improved pedestrian bike crossings time cross run \\n timers crossings traffic lights \\n\\n bike lane usage counter display e.g. 10 bikes today 120 week 12000 overall \\n', 'cameras dark quiet places', 'public health safety environmental campaigns bus stops council public facilities', 'nil', 'wifi hot spots \\n tourism displays similar te papa board city centre', 'singapore great   touch screen   information u plan days prints', 'timers red lights yellow light green', 'try link community tech projects longer term goals tauranga saving power/ water create tech projects relate stimulate engagement centres use technology help everyday taurangian demographic spend majority time enhance experience use tech', 'camera street civic safety.with face recognition', 'bus stop arrival boards \\n', '', 'time cbd signs arterials particularly useful morning commute', 'cost money important   focus core council businesses important fairy', 'access internet data provides connections people important afford', 'accident traffic hold ups major roads ie harbour bridge etc', '', 'technology needed bus stops timetables bus location etc rest technology needed']\n"
     ]
    },
    {
     "name": "stderr",
     "output_type": "stream",
     "text": [
      "C:\\Users\\Ben\\AppData\\Local\\Temp\\ipykernel_8324\\1236318596.py:23: SettingWithCopyWarning: \n",
      "A value is trying to be set on a copy of a slice from a DataFrame.\n",
      "Try using .loc[row_indexer,col_indexer] = value instead\n",
      "\n",
      "See the caveats in the documentation: https://pandas.pydata.org/pandas-docs/stable/user_guide/indexing.html#returning-a-view-versus-a-copy\n",
      "  df_cleaned['cleaned_response'] = df_cleaned['Q23 - Do you have any ideas for new technology or examples you\\'ve seen from other...'].apply(preprocess_text)\n"
     ]
    }
   ],
   "execution_count": 37
  },
  {
   "metadata": {
    "ExecuteTime": {
     "end_time": "2024-12-11T08:11:15.084525Z",
     "start_time": "2024-12-11T08:11:11.305098Z"
    }
   },
   "cell_type": "code",
   "source": [
    "from top2vec import Top2Vec\n",
    "\n",
    "model = Top2Vec(cleaned_responses_list, min_count=5)"
   ],
   "id": "89eb5befb430beaa",
   "outputs": [
    {
     "name": "stderr",
     "output_type": "stream",
     "text": [
      "2024-12-11 21:11:11,307 - top2vec - INFO - Pre-processing documents for training\n",
      "C:\\Users\\Ben\\miniconda3\\envs\\SurveyVisualisation\\Lib\\site-packages\\sklearn\\feature_extraction\\text.py:517: UserWarning: The parameter 'token_pattern' will not be used since 'tokenizer' is not None'\n",
      "  warnings.warn(\n",
      "2024-12-11 21:11:11,315 - top2vec - INFO - Downloading all-MiniLM-L6-v2 model\n",
      "2024-12-11 21:11:14,003 - top2vec - INFO - Creating joint document/word embedding\n",
      "2024-12-11 21:11:14,969 - top2vec - INFO - Creating lower dimension embedding of documents\n",
      "C:\\Users\\Ben\\miniconda3\\envs\\SurveyVisualisation\\Lib\\site-packages\\sklearn\\utils\\deprecation.py:151: FutureWarning: 'force_all_finite' was renamed to 'ensure_all_finite' in 1.6 and will be removed in 1.8.\n",
      "  warnings.warn(\n",
      "2024-12-11 21:11:15,075 - top2vec - INFO - Finding dense areas of documents\n",
      "C:\\Users\\Ben\\miniconda3\\envs\\SurveyVisualisation\\Lib\\site-packages\\sklearn\\utils\\deprecation.py:151: FutureWarning: 'force_all_finite' was renamed to 'ensure_all_finite' in 1.6 and will be removed in 1.8.\n",
      "  warnings.warn(\n",
      "C:\\Users\\Ben\\miniconda3\\envs\\SurveyVisualisation\\Lib\\site-packages\\sklearn\\utils\\deprecation.py:151: FutureWarning: 'force_all_finite' was renamed to 'ensure_all_finite' in 1.6 and will be removed in 1.8.\n",
      "  warnings.warn(\n",
      "2024-12-11 21:11:15,078 - top2vec - INFO - Finding topics\n"
     ]
    }
   ],
   "execution_count": 39
  },
  {
   "metadata": {
    "ExecuteTime": {
     "end_time": "2024-12-11T08:11:17.521003Z",
     "start_time": "2024-12-11T08:11:17.516173Z"
    }
   },
   "cell_type": "code",
   "source": [
    "topic_sizes, topic_nums = model.get_topic_sizes()\n",
    "print(topic_sizes)\n",
    "\n",
    "topic_words, word_scores, topic_nums = model.get_topics(2)\n",
    "\n",
    "for words, scores, num in zip(topic_words, word_scores, topic_nums):\n",
    "    print(num)\n",
    "    print(words)"
   ],
   "id": "2e7287b4438427f6",
   "outputs": [
    {
     "name": "stdout",
     "output_type": "stream",
     "text": [
      "[74 19]\n",
      "0\n",
      "['buses' 'traffic' 'parking' 'bus' 'road' 'areas' 'street' 'lights'\n",
      " 'transport' 'city' 'public' 'technology' 'crossing' 'council' 'data'\n",
      " 'app' 'screens' 'light' 'stops' 'people' 'interactive' 'tcc' 'boards'\n",
      " 'phone' 'need' 'bins' 'use' 'digital' 'smart' 'time' 'green' 'rubbish'\n",
      " 'tauranga' 'etc' 'red' 'like' 'water' 'stop' 'maybe']\n",
      "1\n",
      "['rubbish' 'time' 'like' 'maybe' 'stop' 'red' 'use' 'street' 'road' 'city'\n",
      " 'app' 'stops' 'etc' 'people' 'public' 'traffic' 'phone' 'lights' 'light'\n",
      " 'crossing' 'boards' 'smart' 'need' 'bins' 'screens' 'council' 'areas'\n",
      " 'interactive' 'green' 'parking' 'bus' 'tcc' 'technology' 'water'\n",
      " 'tauranga' 'buses' 'digital' 'data' 'transport']\n"
     ]
    }
   ],
   "execution_count": 40
  },
  {
   "metadata": {
    "ExecuteTime": {
     "end_time": "2024-12-11T08:11:21.320449Z",
     "start_time": "2024-12-11T08:11:21.314313Z"
    }
   },
   "cell_type": "code",
   "source": [
    "documents, document_scores, document_ids = model.search_documents_by_topic(topic_num=0, num_docs=6)\n",
    "for doc, score, doc_id in zip(documents, document_scores, document_ids):\n",
    "    print(f\"Document: {doc_id}, Score: {score}\")\n",
    "    print(\"-----\")\n",
    "    print(doc)\n",
    "    print(\"-----\")\n",
    "    print()"
   ],
   "id": "953dfccc0e1001c",
   "outputs": [
    {
     "name": "stdout",
     "output_type": "stream",
     "text": [
      "Document: 58, Score: 0.7433348894119263\n",
      "-----\n",
      "minutes away buses stop \n",
      " billboards displaying upcoming events \n",
      " traffic congestion eased smart tech monitoring build adjusting traffic lights accordingly\n",
      "-----\n",
      "\n",
      "Document: 55, Score: 0.6855706572532654\n",
      "-----\n",
      "maybe safety based technology eg linking police certain areas nt phone emergency services possibly interactive maps\n",
      "-----\n",
      "\n",
      "Document: 14, Score: 0.6505788564682007\n",
      "-----\n",
      "smart pedestrian cycle crossings able detect approaching cyclists pedestrians change green prioritise encourage cyclings walking \n",
      "\n",
      " traffic lights turn green buses approach\n",
      "-----\n",
      "\n",
      "Document: 13, Score: 0.6424726247787476\n",
      "-----\n",
      "bus depot central christchurch amazed saw covered safe location digital time boards pleased tauranga time boards tell bus coming \n",
      " maybe security cameras know\n",
      "-----\n",
      "\n",
      "Document: 65, Score: 0.6379818916320801\n",
      "-----\n",
      "digital signage buses bus stops eta interactive screens    like new extra smart bins public use\n",
      "-----\n",
      "\n",
      "Document: 49, Score: 0.6149952411651611\n",
      "-----\n",
      "parking public transport type apps auckland great bop\n",
      "-----\n",
      "\n"
     ]
    }
   ],
   "execution_count": 41
  }
 ],
 "metadata": {
  "kernelspec": {
   "display_name": "Python 3",
   "language": "python",
   "name": "python3"
  },
  "language_info": {
   "codemirror_mode": {
    "name": "ipython",
    "version": 2
   },
   "file_extension": ".py",
   "mimetype": "text/x-python",
   "name": "python",
   "nbconvert_exporter": "python",
   "pygments_lexer": "ipython2",
   "version": "2.7.6"
  }
 },
 "nbformat": 4,
 "nbformat_minor": 5
}
