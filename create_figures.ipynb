{
 "cells": [
  {
   "cell_type": "code",
   "id": "initial_id",
   "metadata": {
    "collapsed": true,
    "ExecuteTime": {
     "end_time": "2024-12-11T03:58:50.411691Z",
     "start_time": "2024-12-11T03:58:50.389065Z"
    }
   },
   "source": [
    "from word_cloud import visualise_column, visualise_ranked_columns\n",
    "from bar_charts import stacked_bars, grouped_bars, Scale\n",
    "\n",
    "import pandas as pd\n",
    "import warnings\n",
    "\n",
    "from bs4 import MarkupResemblesLocatorWarning\n",
    "warnings.filterwarnings('ignore', category=MarkupResemblesLocatorWarning)\n",
    "\n",
    "def visualise_responses(age_brackets, gender):\n",
    "    df = pd.read_csv('data/all-responses.csv')\n",
    "    print(df.columns)\n",
    "\n",
    "    df = df[df['Q26 - Age: *'].isin(age_brackets)]\n",
    "    df = df[df['Q27 - Gender: *'].isin(gender)]\n",
    "\n",
    "    print(\"Existing technology aware of:\")\n",
    "    visualise_column(df, \"Q3 - We already have some council provided community technology in place. Which...\")\n",
    "\n",
    "    print(\"Technology would you like to see more of, and how likely are you to use them:\")\n",
    "    visualise_column(df, 'Q4 - What technology would you like to see more of in our community? *\\n\\nPlease t...')\n",
    "    columns = [\"Q5 - If these types of technologies were made available to the community, how li...\"]\n",
    "    stacked_bars(df, columns, Scale.LIKELY)\n",
    "\n",
    "    print(\"How important are the following outcomes:\")\n",
    "    columns = ['Q7 - Technology should be accessible and help people feel included, safe, and co...',\n",
    "       'Q8 - Technology should help preserve and protect our environment and make counci...',\n",
    "       'Q9 - Technology should enable council to plan thriving town centres, resilient i...',\n",
    "       'Q10 - Technology should make it easy to move around our city and use sustainable...',\n",
    "       'Q11 - Technology should drive business growth and education opportunities, creati...']\n",
    "    stacked_bars(df, columns, Scale.IMPORTANT)\n",
    "\n",
    "    print(\"How important that technology improves the following:\")\n",
    "    columns = ['Q13 - Traffic congestion. *',\n",
    "       'Q14 - A revitalised city centre. *',\n",
    "       'Q15 - Reliable and timely public transport. *',\n",
    "       'Q16 - Public safety. *',\n",
    "       'Q17 - Visibility of available parking. *',\n",
    "       'Q18 - Staying informed and providing feedback on council decisions. *']\n",
    "    stacked_bars(df, columns, Scale.IMPORTANT)\n",
    "\n",
    "    print(\"Ranking of preferred improvements with technology:\")\n",
    "    columns = ['Q21_1 - Roads, footpaths, and cycle ways. ',\n",
    "       'Q21_4 - Rubbish and recycling services. ',\n",
    "       'Q21_5 - Building and planning. ',\n",
    "       'Q21_6 - Outdoor spaces, such as parks. ',\n",
    "       'Q21_7 - Public facilities, such as community centres.  ',\n",
    "       'Q21_8 - Drinking water, wastewater, and stormwater services. ',\n",
    "       'Q21_9 - Business licensing and compliance. ',\n",
    "       'Q21_10 - Community services, such as events. ']\n",
    "    grouped_bars(df, columns)\n",
    "    visualise_ranked_columns(df, columns)\n",
    "\n",
    "    print(\"Preventing use of technology:\")\n",
    "    visualise_column(df, \"Q22 - Is there anything preventing you from using technology in our community’s o...\")\n",
    "\n",
    "    # ideas and examples\n",
    "\n",
    "    # feedback about council or technology\n",
    "\n",
    "    print(\"Rate digital skills:\")\n",
    "    columns = [\"Q25 - How would you rate your digital skills when using community technology? *...\"]\n",
    "    stacked_bars(df, columns, Scale.SKILL)"
   ],
   "outputs": [],
   "execution_count": 4
  },
  {
   "metadata": {
    "ExecuteTime": {
     "end_time": "2024-12-11T03:58:51.896486Z",
     "start_time": "2024-12-11T03:58:50.411691Z"
    }
   },
   "cell_type": "code",
   "source": [
    "import ipywidgets as widgets\n",
    "\n",
    "# Create checkbox widgets for age brackets and gender\n",
    "age_brackets_widget = widgets.SelectMultiple(\n",
    "    options=['Under 16', '16-24', '25-34', '35-44', '45-54', '55-64', '65-74', '75-84', '85+'],\n",
    "    value=['Under 16', '16-24', '25-34', '35-44', '45-54', '55-64', '65-74', '75-84', '85+'],\n",
    "    description='Age Brackets:',\n",
    "    disabled=False\n",
    ")\n",
    "\n",
    "gender_widget = widgets.SelectMultiple(\n",
    "    options=['Male', 'Female', 'Prefer not to say', 'Other (please specify)', 'Non-binary'],\n",
    "    value=['Male', 'Female', 'Prefer not to say', 'Other (please specify)', 'Non-binary'],\n",
    "    description='Gender:',\n",
    "    disabled=False\n",
    ")\n",
    "\n",
    "widgets.interactive(visualise_responses, age_brackets=age_brackets_widget, gender=gender_widget)"
   ],
   "id": "f70ec1aaa5456d04",
   "outputs": [
    {
     "data": {
      "text/plain": [
       "interactive(children=(SelectMultiple(description='Age Brackets:', index=(0, 1, 2, 3, 4, 5, 6, 7, 8), options=(…"
      ],
      "application/vnd.jupyter.widget-view+json": {
       "version_major": 2,
       "version_minor": 0,
       "model_id": "48e1800911ad4d4cb9d6d6353ecd76ca"
      }
     },
     "execution_count": 5,
     "metadata": {},
     "output_type": "execute_result"
    }
   ],
   "execution_count": 5
  }
 ],
 "metadata": {
  "kernelspec": {
   "display_name": "Python 3",
   "language": "python",
   "name": "python3"
  },
  "language_info": {
   "codemirror_mode": {
    "name": "ipython",
    "version": 2
   },
   "file_extension": ".py",
   "mimetype": "text/x-python",
   "name": "python",
   "nbconvert_exporter": "python",
   "pygments_lexer": "ipython2",
   "version": "2.7.6"
  }
 },
 "nbformat": 4,
 "nbformat_minor": 5
}
