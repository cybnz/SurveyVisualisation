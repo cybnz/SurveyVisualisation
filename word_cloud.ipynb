{
 "cells": [
  {
   "cell_type": "code",
   "id": "initial_id",
   "metadata": {
    "collapsed": true,
    "ExecuteTime": {
     "end_time": "2024-11-24T19:53:04.905828Z",
     "start_time": "2024-11-24T19:53:04.890259Z"
    }
   },
   "source": [
    "import pandas as pd\n",
    "\n",
    "# Read the CSV file\n",
    "df = pd.read_csv('data/dashboard-export-11-57-pm-2024-11-21.csv')  # Replace with the actual path to survey CSV file export\n",
    "\n",
    "# Extract the relevant column\n",
    "column_name = 'Q4 - What technology would you like to see more of in our community? *\\n\\nPlease t...'\n",
    "technologies = df[column_name]\n",
    "\n",
    "# Split the column into individual entries (if it's a comma-separated string)\n",
    "technologies_split = technologies.str.split(',').explode().str.strip()\n",
    "\n",
    "# Count the occurrences of each unique entry\n",
    "technology_counts = technologies_split.value_counts()\n",
    "\n",
    "print(technology_counts)\n"
   ],
   "outputs": [
    {
     "name": "stdout",
     "output_type": "stream",
     "text": [
      "Q4 - What technology would you like to see more of in our community? *\\n\\nPlease t...\n",
      "Environmental monitoring and emergency response systems.                                         98\n",
      "transport information.                                                                           86\n",
      "such as what’s on listings                                                                       86\n",
      "maps                                                                                             86\n",
      "Digital community messaging and signage in outdoor spaces                                        86\n",
      "Interactive learning and technology for kids.                                                    76\n",
      "Free public Wi-Fi in other areas outside of the Mount and the city libraries.                    75\n",
      "Urban planning technology to view 3D city models and give feedback on the future of our city.    64\n",
      "Smart council infrastructure                                                                     60\n",
      "such as smart bins.                                                                              60\n",
      "Digital art                                                                                      55\n",
      "culture and history displays.                                                                    55\n",
      "Technology that fosters community innovation                                                     43\n",
      "such as open data for research.                                                                  43\n",
      "Other                                                                                            25\n",
      "please specify.                                                                                  25\n",
      "Name: count, dtype: int64\n"
     ]
    }
   ],
   "execution_count": 12
  }
 ],
 "metadata": {
  "kernelspec": {
   "display_name": "Python 3",
   "language": "python",
   "name": "python3"
  },
  "language_info": {
   "codemirror_mode": {
    "name": "ipython",
    "version": 2
   },
   "file_extension": ".py",
   "mimetype": "text/x-python",
   "name": "python",
   "nbconvert_exporter": "python",
   "pygments_lexer": "ipython2",
   "version": "2.7.6"
  }
 },
 "nbformat": 4,
 "nbformat_minor": 5
}
